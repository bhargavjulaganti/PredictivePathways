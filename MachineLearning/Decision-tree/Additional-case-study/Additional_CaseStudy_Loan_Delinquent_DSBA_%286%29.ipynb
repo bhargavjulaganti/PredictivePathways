{
  "cells": [
    {
      "cell_type": "markdown",
      "metadata": {
        "id": "5SADM5QsteXR"
      },
      "source": [
        "<center><p float=\"center\">\n",
        "  <img src=\"https://upload.wikimedia.org/wikipedia/commons/e/e9/4_RGB_McCombs_School_Brand_Branded.png\" width=\"300\" height=\"100\"/>\n",
        "  <img src=\"https://mma.prnewswire.com/media/1458111/Great_Learning_Logo.jpg?p=facebook\" width=\"200\" height=\"100\"/>\n",
        "</p></center>\n",
        "\n",
        "<h1><center><font size=10>Data Science and Business Analytics</center></font></h1>\n",
        "<h1><center> Machine Learning : Decision Tree - Week 2</center></h1>"
      ]
    },
    {
      "cell_type": "markdown",
      "metadata": {
        "id": "Eo0h6UMuwmDU"
      },
      "source": [
        "<center><img src=\"https://img.freepik.com/free-vector/bank-credit-finance-management-loan-agreement-signing-mortgage-money-credit_335657-3136.jpg?w=826&t=st=1653911422~exp=1653912022~hmac=0f4ff8a8a443e542f79b51f8a572e5d9cf2d39e6eca18b749419db75be96c4c9\" width=\"700\" height=\"400\"></center>\n",
        "\n",
        "<b><h2><center>Delinquent Analysis Case Study</center></h2></b>"
      ]
    },
    {
      "cell_type": "markdown",
      "metadata": {
        "id": "5KIc3T1j5fK5"
      },
      "source": [
        "## Problem Statement"
      ]
    },
    {
      "cell_type": "markdown",
      "metadata": {
        "id": "pI92aFMWtHOi"
      },
      "source": [
        "### Context\n",
        "\n",
        "DRS bank is facing challenging times. Their NPAs (Non-Performing Assets) has been on a rise recently and a large part of these are due to the loans given to individual customers(borrowers). Chief Risk Officer of the bank decides to put in a scientifically robust framework for approval of loans to individual customers to minimize the risk of loans converting into NPAs and initiates a project for the data science team at the bank. You, as a senior member of the team, are assigned this project.\n",
        "\n",
        "### Objective\n",
        "To identify the criteria to approve loans for an individual customer such that the likelihood of the loan delinquency is minimized and identify the factors that drive the behavior of loan delinquency.\n",
        "\n",
        "### Dataset\n",
        "* ID: Customer ID\n",
        "* isDelinquent : indicates whether the customer is delinquent or not (1 => Yes, 0 => No)\n",
        "* term: Loan term in months\n",
        "* gender: Gender of the borrower\n",
        "* age: Age of the borrower\n",
        "* purpose: Purpose of Loan\n",
        "* home_ownership: Status of borrower's home\n",
        "* FICO: FICO (i.e. the bureau score) of the borrower\n",
        "\n",
        "### Domain Information\n",
        "* Transactor – A person who pays his due amount balance full and on time.\n",
        "* Revolver – A person who pays the minimum due amount but keeps revolving his balance and does not pay the full amount.\n",
        "* Delinquent - Delinquency means that you are behind on payments, a person who fails to pay even the minimum due amount.\n",
        "* Defaulter – Once you are delinquent for a certain period your lender will declare you to be in the default stage.\n",
        "* Risk Analytics – A wide domain in the financial and banking industry, basically analyzing the risk of the customer.\n"
      ]
    },
    {
      "cell_type": "markdown",
      "metadata": {
        "id": "tC574UFUD4A4"
      },
      "source": [
        "## Loading Libraries"
      ]
    },
    {
      "cell_type": "code",
      "execution_count": null,
      "metadata": {
        "id": "QGpj_K5-tHOu"
      },
      "outputs": [
        {
          "ename": "",
          "evalue": "",
          "output_type": "error",
          "traceback": [
            "\u001b[1;31mRunning cells with 'Python 3.12.3' requires the ipykernel package.\n",
            "\u001b[1;31mRun the following command to install 'ipykernel' into the Python environment. \n",
            "\u001b[1;31mCommand: '/opt/homebrew/bin/python3 -m pip install ipykernel -U --user --force-reinstall'"
          ]
        }
      ],
      "source": [
        "# this will help in making the Python code more structured automatically (good coding practice)\n",
        "#%load_ext nb_black\n",
        "\n",
        "# Library to suppress warnings or deprecation notes\n",
        "import warnings\n",
        "\n",
        "warnings.filterwarnings(\"ignore\")\n",
        "\n",
        "# Libraries to help with reading and manipulating data\n",
        "\n",
        "import pandas as pd\n",
        "import numpy as np\n",
        "\n",
        "# Library to split data\n",
        "from sklearn.model_selection import train_test_split\n",
        "\n",
        "# libaries to help with data visualization\n",
        "import matplotlib.pyplot as plt\n",
        "import seaborn as sns\n",
        "\n",
        "# Removes the limit for the number of displayed columns\n",
        "pd.set_option(\"display.max_columns\", None)\n",
        "# Sets the limit for the number of displayed rows\n",
        "pd.set_option(\"display.max_rows\", 200)\n",
        "\n",
        "# Libraries to build decision tree classifier\n",
        "from sklearn.tree import DecisionTreeClassifier\n",
        "from sklearn import tree\n",
        "\n",
        "# To tune different models\n",
        "from sklearn.model_selection import GridSearchCV\n",
        "\n",
        "# To perform statistical analysis\n",
        "import scipy.stats as stats\n",
        "\n",
        "# To get diferent metric scores\n",
        "from sklearn.metrics import (\n",
        "    f1_score,\n",
        "    accuracy_score,\n",
        "    recall_score,\n",
        "    precision_score,\n",
        "    confusion_matrix,\n",
        "    ConfusionMatrixDisplay,\n",
        "    make_scorer,\n",
        ")"
      ]
    },
    {
      "cell_type": "markdown",
      "metadata": {
        "id": "a9ZMNfUNhU14"
      },
      "source": [
        "## Loading data"
      ]
    },
    {
      "cell_type": "code",
      "execution_count": null,
      "metadata": {
        "id": "5gFhiltUtHOx"
      },
      "outputs": [
        {
          "ename": "",
          "evalue": "",
          "output_type": "error",
          "traceback": [
            "\u001b[1;31mRunning cells with 'Python 3.12.3' requires the ipykernel package.\n",
            "\u001b[1;31mRun the following command to install 'ipykernel' into the Python environment. \n",
            "\u001b[1;31mCommand: '/opt/homebrew/bin/python3 -m pip install ipykernel -U --user --force-reinstall'"
          ]
        }
      ],
      "source": [
        "data = pd.read_csv(\"/content/Loan_Delinquent_Dataset (5).csv\")"
      ]
    },
    {
      "cell_type": "code",
      "execution_count": null,
      "metadata": {
        "id": "HckxqH5EtHOy"
      },
      "outputs": [
        {
          "ename": "",
          "evalue": "",
          "output_type": "error",
          "traceback": [
            "\u001b[1;31mRunning cells with 'Python 3.12.3' requires the ipykernel package.\n",
            "\u001b[1;31mRun the following command to install 'ipykernel' into the Python environment. \n",
            "\u001b[1;31mCommand: '/opt/homebrew/bin/python3 -m pip install ipykernel -U --user --force-reinstall'"
          ]
        }
      ],
      "source": [
        "# copying data to another varaible to avoid any changes to original data\n",
        "loan = data.copy()"
      ]
    },
    {
      "cell_type": "markdown",
      "metadata": {
        "id": "2bPpyK_cEHzq"
      },
      "source": [
        "## Overview of the data"
      ]
    },
    {
      "cell_type": "markdown",
      "metadata": {
        "id": "r8omfzv0tHOz"
      },
      "source": [
        "### View the first and last 5 rows of the dataset."
      ]
    },
    {
      "cell_type": "code",
      "execution_count": null,
      "metadata": {
        "colab": {
          "base_uri": "https://localhost:8080/",
          "height": 0
        },
        "id": "x2Rq37zptHO0",
        "outputId": "55de9191-c0e0-4f77-b4a8-58f5764eb9d8",
        "scrolled": true
      },
      "outputs": [
        {
          "ename": "",
          "evalue": "",
          "output_type": "error",
          "traceback": [
            "\u001b[1;31mRunning cells with 'Python 3.12.3' requires the ipykernel package.\n",
            "\u001b[1;31mRun the following command to install 'ipykernel' into the Python environment. \n",
            "\u001b[1;31mCommand: '/opt/homebrew/bin/python3 -m pip install ipykernel -U --user --force-reinstall'"
          ]
        }
      ],
      "source": [
        "loan.head()"
      ]
    },
    {
      "cell_type": "code",
      "execution_count": null,
      "metadata": {
        "colab": {
          "base_uri": "https://localhost:8080/",
          "height": 0
        },
        "id": "56p-O80wtHO2",
        "outputId": "88bc68eb-d549-451d-af5e-1ffea410248c"
      },
      "outputs": [
        {
          "ename": "",
          "evalue": "",
          "output_type": "error",
          "traceback": [
            "\u001b[1;31mRunning cells with 'Python 3.12.3' requires the ipykernel package.\n",
            "\u001b[1;31mRun the following command to install 'ipykernel' into the Python environment. \n",
            "\u001b[1;31mCommand: '/opt/homebrew/bin/python3 -m pip install ipykernel -U --user --force-reinstall'"
          ]
        }
      ],
      "source": [
        "loan.tail()"
      ]
    },
    {
      "cell_type": "markdown",
      "metadata": {
        "id": "dEuSu6e4hU2e"
      },
      "source": [
        "### Understand the shape of the dataset."
      ]
    },
    {
      "cell_type": "code",
      "execution_count": null,
      "metadata": {
        "colab": {
          "base_uri": "https://localhost:8080/"
        },
        "id": "qEQCDd4ZtHO5",
        "outputId": "56730fdc-135e-485b-dcea-9c2ad6bb50a1"
      },
      "outputs": [
        {
          "ename": "",
          "evalue": "",
          "output_type": "error",
          "traceback": [
            "\u001b[1;31mRunning cells with 'Python 3.12.3' requires the ipykernel package.\n",
            "\u001b[1;31mRun the following command to install 'ipykernel' into the Python environment. \n",
            "\u001b[1;31mCommand: '/opt/homebrew/bin/python3 -m pip install ipykernel -U --user --force-reinstall'"
          ]
        }
      ],
      "source": [
        "loan.shape"
      ]
    },
    {
      "cell_type": "markdown",
      "metadata": {
        "id": "ZZ39-_ijtHO6"
      },
      "source": [
        "* The dataset has 11548 rows and 8 columns of data"
      ]
    },
    {
      "cell_type": "markdown",
      "metadata": {
        "id": "mwAu-vEwhU2m"
      },
      "source": [
        "### Check the data types of the columns for the dataset."
      ]
    },
    {
      "cell_type": "code",
      "execution_count": null,
      "metadata": {
        "colab": {
          "base_uri": "https://localhost:8080/"
        },
        "id": "ov2A4KVntHO6",
        "outputId": "b0b117a9-bd25-4972-9c68-62e7747bb641"
      },
      "outputs": [
        {
          "ename": "",
          "evalue": "",
          "output_type": "error",
          "traceback": [
            "\u001b[1;31mRunning cells with 'Python 3.12.3' requires the ipykernel package.\n",
            "\u001b[1;31mRun the following command to install 'ipykernel' into the Python environment. \n",
            "\u001b[1;31mCommand: '/opt/homebrew/bin/python3 -m pip install ipykernel -U --user --force-reinstall'"
          ]
        }
      ],
      "source": [
        "loan.info()"
      ]
    },
    {
      "cell_type": "markdown",
      "metadata": {
        "id": "SDMsvS32tHO7"
      },
      "source": [
        "**Observations -**\n",
        "* isDelinquent is the dependent variable - type integer.\n",
        "* All the dependent variables except for ID are object type."
      ]
    },
    {
      "cell_type": "markdown",
      "metadata": {
        "id": "7E1orwlJhU20"
      },
      "source": [
        "### Summary of the dataset."
      ]
    },
    {
      "cell_type": "code",
      "execution_count": null,
      "metadata": {
        "colab": {
          "base_uri": "https://localhost:8080/",
          "height": 0
        },
        "id": "RrfvCV5rtHO7",
        "outputId": "d7187be7-ec70-45fc-b5ba-9ac771e499d9"
      },
      "outputs": [
        {
          "ename": "",
          "evalue": "",
          "output_type": "error",
          "traceback": [
            "\u001b[1;31mRunning cells with 'Python 3.12.3' requires the ipykernel package.\n",
            "\u001b[1;31mRun the following command to install 'ipykernel' into the Python environment. \n",
            "\u001b[1;31mCommand: '/opt/homebrew/bin/python3 -m pip install ipykernel -U --user --force-reinstall'"
          ]
        }
      ],
      "source": [
        "loan.describe(include=\"all\")"
      ]
    },
    {
      "cell_type": "markdown",
      "metadata": {
        "id": "-MomekrUtHO8"
      },
      "source": [
        "**Observations-**   \n",
        "\n",
        "* Most of the loans are for a 36-month term loan.\n",
        "* More males have applied for loans than females.\n",
        "* Most loan applications are for house loans.\n",
        "* Most customers have either mortgaged their houses.\n",
        "* Mostly customers in the age group 20-25 have applied for a loan.\n",
        "* Most customers have a FICO score between 300 and 500."
      ]
    },
    {
      "cell_type": "code",
      "execution_count": null,
      "metadata": {
        "colab": {
          "base_uri": "https://localhost:8080/"
        },
        "id": "K5bC8uDNtHO8",
        "outputId": "aa28ad82-4dc4-46d7-fd00-66d90560405a"
      },
      "outputs": [
        {
          "ename": "",
          "evalue": "",
          "output_type": "error",
          "traceback": [
            "\u001b[1;31mRunning cells with 'Python 3.12.3' requires the ipykernel package.\n",
            "\u001b[1;31mRun the following command to install 'ipykernel' into the Python environment. \n",
            "\u001b[1;31mCommand: '/opt/homebrew/bin/python3 -m pip install ipykernel -U --user --force-reinstall'"
          ]
        }
      ],
      "source": [
        "# checking for unique values in ID column\n",
        "loan[\"ID\"].nunique()"
      ]
    },
    {
      "cell_type": "markdown",
      "metadata": {
        "id": "vdb7DtkctHO8"
      },
      "source": [
        "* Since all the values in ID column are unique we can drop it"
      ]
    },
    {
      "cell_type": "code",
      "execution_count": null,
      "metadata": {
        "id": "NSKqLutstHO8"
      },
      "outputs": [
        {
          "ename": "",
          "evalue": "",
          "output_type": "error",
          "traceback": [
            "\u001b[1;31mRunning cells with 'Python 3.12.3' requires the ipykernel package.\n",
            "\u001b[1;31mRun the following command to install 'ipykernel' into the Python environment. \n",
            "\u001b[1;31mCommand: '/opt/homebrew/bin/python3 -m pip install ipykernel -U --user --force-reinstall'"
          ]
        }
      ],
      "source": [
        "loan.drop([\"ID\"], axis=1, inplace=True)"
      ]
    },
    {
      "cell_type": "markdown",
      "metadata": {
        "id": "Ie6gSJh8hU28"
      },
      "source": [
        "### Check for missing values"
      ]
    },
    {
      "cell_type": "code",
      "execution_count": null,
      "metadata": {
        "colab": {
          "base_uri": "https://localhost:8080/"
        },
        "id": "YojNnca7tHO9",
        "outputId": "bd3bd89f-0aee-4a34-a74e-4cd3b44452a5"
      },
      "outputs": [
        {
          "ename": "",
          "evalue": "",
          "output_type": "error",
          "traceback": [
            "\u001b[1;31mRunning cells with 'Python 3.12.3' requires the ipykernel package.\n",
            "\u001b[1;31mRun the following command to install 'ipykernel' into the Python environment. \n",
            "\u001b[1;31mCommand: '/opt/homebrew/bin/python3 -m pip install ipykernel -U --user --force-reinstall'"
          ]
        }
      ],
      "source": [
        "loan.isnull().sum()"
      ]
    },
    {
      "cell_type": "markdown",
      "metadata": {
        "id": "VY8bugwftHO9"
      },
      "source": [
        "* There are no missing values in the dataset"
      ]
    },
    {
      "cell_type": "markdown",
      "metadata": {
        "id": "spLcUitLEWx4"
      },
      "source": [
        "## Exploratory Data Analysis (EDA)"
      ]
    },
    {
      "cell_type": "markdown",
      "metadata": {
        "id": "-VHCTLmzEl8C"
      },
      "source": [
        "**The below functions need to be defined to carry out the EDA.**"
      ]
    },
    {
      "cell_type": "code",
      "execution_count": null,
      "metadata": {
        "id": "ViCl1agjtHO-"
      },
      "outputs": [
        {
          "ename": "",
          "evalue": "",
          "output_type": "error",
          "traceback": [
            "\u001b[1;31mRunning cells with 'Python 3.12.3' requires the ipykernel package.\n",
            "\u001b[1;31mRun the following command to install 'ipykernel' into the Python environment. \n",
            "\u001b[1;31mCommand: '/opt/homebrew/bin/python3 -m pip install ipykernel -U --user --force-reinstall'"
          ]
        }
      ],
      "source": [
        "# function to create labeled barplots\n",
        "\n",
        "\n",
        "def labeled_barplot(data, feature, perc=False, n=None):\n",
        "    \"\"\"\n",
        "    Barplot with percentage at the top\n",
        "\n",
        "    data: dataframe\n",
        "    feature: dataframe column\n",
        "    perc: whether to display percentages instead of count (default is False)\n",
        "    n: displays the top n category levels (default is None, i.e., display all levels)\n",
        "    \"\"\"\n",
        "\n",
        "    total = len(data[feature])  # length of the column\n",
        "    count = data[feature].nunique()\n",
        "    if n is None:\n",
        "        plt.figure(figsize=(count + 2, 6))\n",
        "    else:\n",
        "        plt.figure(figsize=(n + 2, 6))\n",
        "\n",
        "    plt.xticks(rotation=90, fontsize=15)\n",
        "    ax = sns.countplot(\n",
        "        data=data,\n",
        "        x=feature,\n",
        "        palette=\"Paired\",\n",
        "        order=data[feature].value_counts().index[:n],\n",
        "    )\n",
        "\n",
        "    for p in ax.patches:\n",
        "        if perc == True:\n",
        "            label = \"{:.1f}%\".format(\n",
        "                100 * p.get_height() / total\n",
        "            )  # percentage of each class of the category\n",
        "        else:\n",
        "            label = p.get_height()  # count of each level of the category\n",
        "\n",
        "        x = p.get_x() + p.get_width() / 2  # width of the plot\n",
        "        y = p.get_height()  # height of the plot\n",
        "\n",
        "        ax.annotate(\n",
        "            label,\n",
        "            (x, y),\n",
        "            ha=\"center\",\n",
        "            va=\"center\",\n",
        "            size=12,\n",
        "            xytext=(0, 5),\n",
        "            textcoords=\"offset points\",\n",
        "        )  # annotate the percentage\n",
        "\n",
        "    plt.show()  # show the plot"
      ]
    },
    {
      "cell_type": "code",
      "execution_count": null,
      "metadata": {
        "id": "1Xsb6bN4tHPs"
      },
      "outputs": [
        {
          "ename": "",
          "evalue": "",
          "output_type": "error",
          "traceback": [
            "\u001b[1;31mRunning cells with 'Python 3.12.3' requires the ipykernel package.\n",
            "\u001b[1;31mRun the following command to install 'ipykernel' into the Python environment. \n",
            "\u001b[1;31mCommand: '/opt/homebrew/bin/python3 -m pip install ipykernel -U --user --force-reinstall'"
          ]
        }
      ],
      "source": [
        "# function to plot stacked bar chart\n",
        "\n",
        "\n",
        "def stacked_barplot(data, predictor, target):\n",
        "    \"\"\"\n",
        "    Print the category counts and plot a stacked bar chart\n",
        "\n",
        "    data: dataframe\n",
        "    predictor: independent variable\n",
        "    target: target variable\n",
        "    \"\"\"\n",
        "    count = data[predictor].nunique()\n",
        "    sorter = data[target].value_counts().index[-1]\n",
        "    tab1 = pd.crosstab(data[predictor], data[target], margins=True).sort_values(\n",
        "        by=sorter, ascending=False\n",
        "    )\n",
        "    print(tab1)\n",
        "    print(\"-\" * 120)\n",
        "    tab = pd.crosstab(data[predictor], data[target], normalize=\"index\").sort_values(\n",
        "        by=sorter, ascending=False\n",
        "    )\n",
        "    tab.plot(kind=\"bar\", stacked=True, figsize=(count + 5, 6))\n",
        "    plt.legend(\n",
        "        loc=\"lower left\", frameon=False,\n",
        "    )\n",
        "    plt.legend(loc=\"upper left\", bbox_to_anchor=(1, 1))\n",
        "    plt.show()"
      ]
    },
    {
      "cell_type": "markdown",
      "metadata": {
        "id": "7Rwx-1ZuhU3D"
      },
      "source": [
        "### Univariate analysis"
      ]
    },
    {
      "cell_type": "markdown",
      "metadata": {
        "id": "vXoQOPsVhU3h"
      },
      "source": [
        "#### Observations on isDelinquent"
      ]
    },
    {
      "cell_type": "code",
      "execution_count": null,
      "metadata": {
        "colab": {
          "base_uri": "https://localhost:8080/",
          "height": 0
        },
        "id": "iUEVb9gNtHO-",
        "outputId": "f4fc8f74-8a13-487b-a4d6-e5605745bc6a"
      },
      "outputs": [
        {
          "ename": "",
          "evalue": "",
          "output_type": "error",
          "traceback": [
            "\u001b[1;31mRunning cells with 'Python 3.12.3' requires the ipykernel package.\n",
            "\u001b[1;31mRun the following command to install 'ipykernel' into the Python environment. \n",
            "\u001b[1;31mCommand: '/opt/homebrew/bin/python3 -m pip install ipykernel -U --user --force-reinstall'"
          ]
        }
      ],
      "source": [
        "labeled_barplot(loan, \"isDelinquent\", perc=True)"
      ]
    },
    {
      "cell_type": "markdown",
      "metadata": {
        "id": "k3arHJXAtHO_"
      },
      "source": [
        "* 66.9% of the customers are delinquent"
      ]
    },
    {
      "cell_type": "markdown",
      "metadata": {
        "id": "wuL-aB65tHO_"
      },
      "source": [
        "#### Observations on term"
      ]
    },
    {
      "cell_type": "code",
      "execution_count": null,
      "metadata": {
        "colab": {
          "base_uri": "https://localhost:8080/",
          "height": 0
        },
        "id": "3TQG2YnatHO_",
        "outputId": "3c39f0f2-58a9-4310-aaf9-ddeacb631a50"
      },
      "outputs": [
        {
          "ename": "",
          "evalue": "",
          "output_type": "error",
          "traceback": [
            "\u001b[1;31mRunning cells with 'Python 3.12.3' requires the ipykernel package.\n",
            "\u001b[1;31mRun the following command to install 'ipykernel' into the Python environment. \n",
            "\u001b[1;31mCommand: '/opt/homebrew/bin/python3 -m pip install ipykernel -U --user --force-reinstall'"
          ]
        }
      ],
      "source": [
        "labeled_barplot(loan, \"term\", perc=True)"
      ]
    },
    {
      "cell_type": "markdown",
      "metadata": {
        "id": "cgaqtBwWtHO_"
      },
      "source": [
        "* 91.7% of the loans are for a 36 month term."
      ]
    },
    {
      "cell_type": "markdown",
      "metadata": {
        "id": "rsaxyjL7tHO_"
      },
      "source": [
        "#### Observations on gender"
      ]
    },
    {
      "cell_type": "code",
      "execution_count": null,
      "metadata": {
        "colab": {
          "base_uri": "https://localhost:8080/",
          "height": 0
        },
        "id": "8XUq_BXttHPA",
        "outputId": "b7c7b7ba-c0c3-4f8a-d915-4191a95a9fc0"
      },
      "outputs": [
        {
          "ename": "",
          "evalue": "",
          "output_type": "error",
          "traceback": [
            "\u001b[1;31mRunning cells with 'Python 3.12.3' requires the ipykernel package.\n",
            "\u001b[1;31mRun the following command to install 'ipykernel' into the Python environment. \n",
            "\u001b[1;31mCommand: '/opt/homebrew/bin/python3 -m pip install ipykernel -U --user --force-reinstall'"
          ]
        }
      ],
      "source": [
        "labeled_barplot(loan, \"gender\", perc=True)"
      ]
    },
    {
      "cell_type": "markdown",
      "metadata": {
        "id": "4jZY1C4ctHPA"
      },
      "source": [
        "* There are more male applicants (56.8%) than female applicants (43.2%)"
      ]
    },
    {
      "cell_type": "markdown",
      "metadata": {
        "id": "QkXGt6lVtHPA"
      },
      "source": [
        "#### Observations on purpose"
      ]
    },
    {
      "cell_type": "code",
      "execution_count": null,
      "metadata": {
        "colab": {
          "base_uri": "https://localhost:8080/",
          "height": 0
        },
        "id": "uZTnBQuutHPA",
        "outputId": "f718957b-6318-44cc-e4cf-55b6ccf86792"
      },
      "outputs": [
        {
          "ename": "",
          "evalue": "",
          "output_type": "error",
          "traceback": [
            "\u001b[1;31mRunning cells with 'Python 3.12.3' requires the ipykernel package.\n",
            "\u001b[1;31mRun the following command to install 'ipykernel' into the Python environment. \n",
            "\u001b[1;31mCommand: '/opt/homebrew/bin/python3 -m pip install ipykernel -U --user --force-reinstall'"
          ]
        }
      ],
      "source": [
        "labeled_barplot(loan, \"purpose\", perc=True)"
      ]
    },
    {
      "cell_type": "markdown",
      "metadata": {
        "id": "cBj58r0ZtHPA"
      },
      "source": [
        "* Most loan applications are for house loans (59.7%) followed by car loans (18%)\n",
        "* There are 2 levels named 'other' and 'Other' under the purpose variable. Since we do not have any other information about these, we can merge these levels."
      ]
    },
    {
      "cell_type": "markdown",
      "metadata": {
        "id": "IQ59IaDXtHPB"
      },
      "source": [
        "#### Observations on home_ownership"
      ]
    },
    {
      "cell_type": "code",
      "execution_count": null,
      "metadata": {
        "colab": {
          "base_uri": "https://localhost:8080/",
          "height": 0
        },
        "id": "npY1U3pntHPo",
        "outputId": "c0738148-4be0-45f3-83af-b47402779bb2"
      },
      "outputs": [
        {
          "ename": "",
          "evalue": "",
          "output_type": "error",
          "traceback": [
            "\u001b[1;31mRunning cells with 'Python 3.12.3' requires the ipykernel package.\n",
            "\u001b[1;31mRun the following command to install 'ipykernel' into the Python environment. \n",
            "\u001b[1;31mCommand: '/opt/homebrew/bin/python3 -m pip install ipykernel -U --user --force-reinstall'"
          ]
        }
      ],
      "source": [
        "labeled_barplot(loan, \"home_ownership\", perc=True)"
      ]
    },
    {
      "cell_type": "markdown",
      "metadata": {
        "id": "7xVaz0QqtHPq"
      },
      "source": [
        "* Very few applicants <10% own their house, Most customers have either mortgaged their houses or live on rent."
      ]
    },
    {
      "cell_type": "markdown",
      "metadata": {
        "id": "UbZDB3TGtHPq"
      },
      "source": [
        "#### Observations on age"
      ]
    },
    {
      "cell_type": "code",
      "execution_count": null,
      "metadata": {
        "colab": {
          "base_uri": "https://localhost:8080/",
          "height": 0
        },
        "id": "2DjqaV2otHPq",
        "outputId": "c3dc8ae2-23d2-4f17-c1c8-c2a182660725"
      },
      "outputs": [
        {
          "ename": "",
          "evalue": "",
          "output_type": "error",
          "traceback": [
            "\u001b[1;31mRunning cells with 'Python 3.12.3' requires the ipykernel package.\n",
            "\u001b[1;31mRun the following command to install 'ipykernel' into the Python environment. \n",
            "\u001b[1;31mCommand: '/opt/homebrew/bin/python3 -m pip install ipykernel -U --user --force-reinstall'"
          ]
        }
      ],
      "source": [
        "labeled_barplot(loan, \"age\", perc=True)"
      ]
    },
    {
      "cell_type": "markdown",
      "metadata": {
        "id": "z4rfsYOHtHPr"
      },
      "source": [
        "* Almost an equal percentage of people aged 20-25 and >25 have applied for the loan."
      ]
    },
    {
      "cell_type": "markdown",
      "metadata": {
        "id": "Lw6uFMRutHPr"
      },
      "source": [
        "#### Observations on FICO"
      ]
    },
    {
      "cell_type": "code",
      "execution_count": null,
      "metadata": {
        "colab": {
          "base_uri": "https://localhost:8080/",
          "height": 0
        },
        "id": "7w0_M8BftHPr",
        "outputId": "be7b85e8-3448-46ca-cbc2-56b0200b1b49"
      },
      "outputs": [
        {
          "ename": "",
          "evalue": "",
          "output_type": "error",
          "traceback": [
            "\u001b[1;31mRunning cells with 'Python 3.12.3' requires the ipykernel package.\n",
            "\u001b[1;31mRun the following command to install 'ipykernel' into the Python environment. \n",
            "\u001b[1;31mCommand: '/opt/homebrew/bin/python3 -m pip install ipykernel -U --user --force-reinstall'"
          ]
        }
      ],
      "source": [
        "labeled_barplot(loan, \"FICO\", perc=True)"
      ]
    },
    {
      "cell_type": "markdown",
      "metadata": {
        "id": "-N7aC7MjtHPr"
      },
      "source": [
        "* Most customers have a FICO score between 300 and 500 (55.2%) followed by a score of greater than 500 (44.8%)"
      ]
    },
    {
      "cell_type": "markdown",
      "metadata": {
        "id": "ah0R9IkjtHPr"
      },
      "source": [
        "### Data Cleaning"
      ]
    },
    {
      "cell_type": "code",
      "execution_count": null,
      "metadata": {
        "colab": {
          "base_uri": "https://localhost:8080/"
        },
        "id": "MB5uqPpDtHPr",
        "outputId": "ba0c57d6-54b5-4823-f55c-8f4848ecbc6e"
      },
      "outputs": [
        {
          "ename": "",
          "evalue": "",
          "output_type": "error",
          "traceback": [
            "\u001b[1;31mRunning cells with 'Python 3.12.3' requires the ipykernel package.\n",
            "\u001b[1;31mRun the following command to install 'ipykernel' into the Python environment. \n",
            "\u001b[1;31mCommand: '/opt/homebrew/bin/python3 -m pip install ipykernel -U --user --force-reinstall'"
          ]
        }
      ],
      "source": [
        "loan[\"purpose\"].unique()"
      ]
    },
    {
      "cell_type": "markdown",
      "metadata": {
        "id": "ii36hlj9tHPr"
      },
      "source": [
        "#### We can merge the purpose -  'other' and 'Other' together"
      ]
    },
    {
      "cell_type": "code",
      "execution_count": null,
      "metadata": {
        "id": "bZDtY6-ytHPr"
      },
      "outputs": [
        {
          "ename": "",
          "evalue": "",
          "output_type": "error",
          "traceback": [
            "\u001b[1;31mRunning cells with 'Python 3.12.3' requires the ipykernel package.\n",
            "\u001b[1;31mRun the following command to install 'ipykernel' into the Python environment. \n",
            "\u001b[1;31mCommand: '/opt/homebrew/bin/python3 -m pip install ipykernel -U --user --force-reinstall'"
          ]
        }
      ],
      "source": [
        "loan[\"purpose\"].replace(\"other\", \"Other\", inplace=True)"
      ]
    },
    {
      "cell_type": "code",
      "execution_count": null,
      "metadata": {
        "colab": {
          "base_uri": "https://localhost:8080/"
        },
        "id": "EORQgVsUtHPr",
        "outputId": "cf69ec24-c266-456a-dc83-3d836150fa4b"
      },
      "outputs": [
        {
          "ename": "",
          "evalue": "",
          "output_type": "error",
          "traceback": [
            "\u001b[1;31mRunning cells with 'Python 3.12.3' requires the ipykernel package.\n",
            "\u001b[1;31mRun the following command to install 'ipykernel' into the Python environment. \n",
            "\u001b[1;31mCommand: '/opt/homebrew/bin/python3 -m pip install ipykernel -U --user --force-reinstall'"
          ]
        }
      ],
      "source": [
        "loan[\"purpose\"].unique()"
      ]
    },
    {
      "cell_type": "markdown",
      "metadata": {
        "id": "vmbZNXkAtHPs"
      },
      "source": [
        "### Bivariate Analysis"
      ]
    },
    {
      "cell_type": "markdown",
      "metadata": {
        "id": "tDysrZPiPSBS"
      },
      "source": [
        "#### term vs isDelinquent"
      ]
    },
    {
      "cell_type": "code",
      "execution_count": null,
      "metadata": {
        "colab": {
          "base_uri": "https://localhost:8080/",
          "height": 0
        },
        "id": "Ug59MX2LtHPs",
        "outputId": "75b69236-4dea-4fe2-a93d-b304dd68b2de"
      },
      "outputs": [
        {
          "ename": "",
          "evalue": "",
          "output_type": "error",
          "traceback": [
            "\u001b[1;31mRunning cells with 'Python 3.12.3' requires the ipykernel package.\n",
            "\u001b[1;31mRun the following command to install 'ipykernel' into the Python environment. \n",
            "\u001b[1;31mCommand: '/opt/homebrew/bin/python3 -m pip install ipykernel -U --user --force-reinstall'"
          ]
        }
      ],
      "source": [
        "stacked_barplot(loan, \"term\", \"isDelinquent\")"
      ]
    },
    {
      "cell_type": "markdown",
      "metadata": {
        "id": "4l3Qyz2AtHPs"
      },
      "source": [
        "* Most loan delinquent customers have taken loan for 36 months."
      ]
    },
    {
      "cell_type": "markdown",
      "metadata": {
        "id": "T5FLmNgIF3JH"
      },
      "source": [
        "#### gender vs isDelinquent"
      ]
    },
    {
      "cell_type": "code",
      "execution_count": null,
      "metadata": {
        "colab": {
          "base_uri": "https://localhost:8080/",
          "height": 0
        },
        "id": "Z4auwn2WtHPs",
        "outputId": "9d797a03-991f-4226-8ac3-8d5787e2f812"
      },
      "outputs": [
        {
          "ename": "",
          "evalue": "",
          "output_type": "error",
          "traceback": [
            "\u001b[1;31mRunning cells with 'Python 3.12.3' requires the ipykernel package.\n",
            "\u001b[1;31mRun the following command to install 'ipykernel' into the Python environment. \n",
            "\u001b[1;31mCommand: '/opt/homebrew/bin/python3 -m pip install ipykernel -U --user --force-reinstall'"
          ]
        }
      ],
      "source": [
        "stacked_barplot(loan, \"gender\", \"isDelinquent\")"
      ]
    },
    {
      "cell_type": "markdown",
      "metadata": {
        "id": "r7tr1lRatHPs"
      },
      "source": [
        "* There's not much difference between male and female customers."
      ]
    },
    {
      "cell_type": "markdown",
      "metadata": {
        "id": "eaerBFkXGA1j"
      },
      "source": [
        "#### Purpose vs isDelinquent"
      ]
    },
    {
      "cell_type": "code",
      "execution_count": null,
      "metadata": {
        "colab": {
          "base_uri": "https://localhost:8080/",
          "height": 0
        },
        "id": "YtE0kDsytHPs",
        "outputId": "3295bfec-dc63-4724-b32d-149b51c642f9"
      },
      "outputs": [
        {
          "ename": "",
          "evalue": "",
          "output_type": "error",
          "traceback": [
            "\u001b[1;31mRunning cells with 'Python 3.12.3' requires the ipykernel package.\n",
            "\u001b[1;31mRun the following command to install 'ipykernel' into the Python environment. \n",
            "\u001b[1;31mCommand: '/opt/homebrew/bin/python3 -m pip install ipykernel -U --user --force-reinstall'"
          ]
        }
      ],
      "source": [
        "stacked_barplot(loan, \"purpose\", \"isDelinquent\")"
      ]
    },
    {
      "cell_type": "markdown",
      "metadata": {
        "id": "sf8dUvPEtHPt"
      },
      "source": [
        "* Most loan delinquent customers are those who have applied for house loans followed by car and personal loans."
      ]
    },
    {
      "cell_type": "markdown",
      "metadata": {
        "id": "mJFTb4EpGHCo"
      },
      "source": [
        "#### home_ownership vs isDelinquent"
      ]
    },
    {
      "cell_type": "code",
      "execution_count": null,
      "metadata": {
        "colab": {
          "base_uri": "https://localhost:8080/",
          "height": 0
        },
        "id": "LVvce26UtHPt",
        "outputId": "a4a0a63d-c5f0-4a54-e6ee-3bd8799240d6"
      },
      "outputs": [
        {
          "ename": "",
          "evalue": "",
          "output_type": "error",
          "traceback": [
            "\u001b[1;31mRunning cells with 'Python 3.12.3' requires the ipykernel package.\n",
            "\u001b[1;31mRun the following command to install 'ipykernel' into the Python environment. \n",
            "\u001b[1;31mCommand: '/opt/homebrew/bin/python3 -m pip install ipykernel -U --user --force-reinstall'"
          ]
        }
      ],
      "source": [
        "stacked_barplot(loan, \"home_ownership\", \"isDelinquent\")"
      ]
    },
    {
      "cell_type": "markdown",
      "metadata": {
        "id": "kXmXU3T_tHPt"
      },
      "source": [
        "* Those customers who have their own house are less delinquent than the ones who live in a rented place or have mortgaged their home."
      ]
    },
    {
      "cell_type": "markdown",
      "metadata": {
        "id": "3qkCgN9DGMR_"
      },
      "source": [
        "#### age vs isDelinquent"
      ]
    },
    {
      "cell_type": "code",
      "execution_count": null,
      "metadata": {
        "colab": {
          "base_uri": "https://localhost:8080/",
          "height": 0
        },
        "id": "ZXoFz2r3tHPt",
        "outputId": "516a392e-32b7-4e31-9343-a4c5ca9bece1"
      },
      "outputs": [
        {
          "ename": "",
          "evalue": "",
          "output_type": "error",
          "traceback": [
            "\u001b[1;31mRunning cells with 'Python 3.12.3' requires the ipykernel package.\n",
            "\u001b[1;31mRun the following command to install 'ipykernel' into the Python environment. \n",
            "\u001b[1;31mCommand: '/opt/homebrew/bin/python3 -m pip install ipykernel -U --user --force-reinstall'"
          ]
        }
      ],
      "source": [
        "stacked_barplot(loan, \"age\", \"isDelinquent\")"
      ]
    },
    {
      "cell_type": "markdown",
      "metadata": {
        "id": "Yto_FghYtHPt"
      },
      "source": [
        "* Customers between 20-25 years of age are more delinquent."
      ]
    },
    {
      "cell_type": "markdown",
      "metadata": {
        "id": "rvhPlCr1GPm_"
      },
      "source": [
        "#### FICO vs isDelinquent"
      ]
    },
    {
      "cell_type": "code",
      "execution_count": null,
      "metadata": {
        "colab": {
          "base_uri": "https://localhost:8080/",
          "height": 0
        },
        "id": "DLcDAFUYtHPt",
        "outputId": "78cdec17-b57c-4cd8-9884-7cf94500ee61",
        "scrolled": false
      },
      "outputs": [
        {
          "ename": "",
          "evalue": "",
          "output_type": "error",
          "traceback": [
            "\u001b[1;31mRunning cells with 'Python 3.12.3' requires the ipykernel package.\n",
            "\u001b[1;31mRun the following command to install 'ipykernel' into the Python environment. \n",
            "\u001b[1;31mCommand: '/opt/homebrew/bin/python3 -m pip install ipykernel -U --user --force-reinstall'"
          ]
        }
      ],
      "source": [
        "stacked_barplot(loan, \"FICO\", \"isDelinquent\")"
      ]
    },
    {
      "cell_type": "markdown",
      "metadata": {
        "id": "1TDNOwpbtHPt"
      },
      "source": [
        "* If FICO score is >500 the chances of delinquency decrease quite a lot compared to when FICO score is between 300-500."
      ]
    },
    {
      "cell_type": "markdown",
      "metadata": {
        "id": "rvrz5DE9tHPt"
      },
      "source": [
        "##### Key Observations -\n",
        "* FICO score and term of loan application appear to be very strong indicators of delinquency.\n",
        "\n",
        "* Other factors appear to be not very good indicators of delinquency. (We can use chi-square tests to determine statistical significance in the association between two categorical variables)."
      ]
    },
    {
      "cell_type": "markdown",
      "metadata": {
        "id": "c09rEZjntHPu"
      },
      "source": [
        "**We observed that a high FICO score means that the chances of delinquency are lower, let us see  if any of the other variables indicate higher a FICO score.**"
      ]
    },
    {
      "cell_type": "markdown",
      "metadata": {
        "id": "BLE5c1NDGewb"
      },
      "source": [
        "#### home_ownership vs FICO"
      ]
    },
    {
      "cell_type": "code",
      "execution_count": null,
      "metadata": {
        "colab": {
          "base_uri": "https://localhost:8080/",
          "height": 0
        },
        "id": "D8T0V9UetHPu",
        "outputId": "90207b57-766c-465b-fe1b-5a08413a6704"
      },
      "outputs": [
        {
          "ename": "",
          "evalue": "",
          "output_type": "error",
          "traceback": [
            "\u001b[1;31mRunning cells with 'Python 3.12.3' requires the ipykernel package.\n",
            "\u001b[1;31mRun the following command to install 'ipykernel' into the Python environment. \n",
            "\u001b[1;31mCommand: '/opt/homebrew/bin/python3 -m pip install ipykernel -U --user --force-reinstall'"
          ]
        }
      ],
      "source": [
        "stacked_barplot(loan, \"home_ownership\", \"FICO\")"
      ]
    },
    {
      "cell_type": "markdown",
      "metadata": {
        "id": "Ru3sSmGYGkm1"
      },
      "source": [
        "#### age vs FICO"
      ]
    },
    {
      "cell_type": "code",
      "execution_count": null,
      "metadata": {
        "colab": {
          "base_uri": "https://localhost:8080/",
          "height": 0
        },
        "id": "hvAezL5StHPu",
        "outputId": "15ca9411-09f4-4008-89c7-f784a2a8f329",
        "scrolled": false
      },
      "outputs": [
        {
          "ename": "",
          "evalue": "",
          "output_type": "error",
          "traceback": [
            "\u001b[1;31mRunning cells with 'Python 3.12.3' requires the ipykernel package.\n",
            "\u001b[1;31mRun the following command to install 'ipykernel' into the Python environment. \n",
            "\u001b[1;31mCommand: '/opt/homebrew/bin/python3 -m pip install ipykernel -U --user --force-reinstall'"
          ]
        }
      ],
      "source": [
        "stacked_barplot(loan, \"age\", \"FICO\")"
      ]
    },
    {
      "cell_type": "markdown",
      "metadata": {
        "id": "s-vKvMEYGoZQ"
      },
      "source": [
        "#### gender vs FICO"
      ]
    },
    {
      "cell_type": "code",
      "execution_count": null,
      "metadata": {
        "colab": {
          "base_uri": "https://localhost:8080/",
          "height": 0
        },
        "id": "TsboS4Y1tHPu",
        "outputId": "9b73d1e7-e362-4fe8-e73d-75e83c7444a6",
        "scrolled": false
      },
      "outputs": [
        {
          "ename": "",
          "evalue": "",
          "output_type": "error",
          "traceback": [
            "\u001b[1;31mRunning cells with 'Python 3.12.3' requires the ipykernel package.\n",
            "\u001b[1;31mRun the following command to install 'ipykernel' into the Python environment. \n",
            "\u001b[1;31mCommand: '/opt/homebrew/bin/python3 -m pip install ipykernel -U --user --force-reinstall'"
          ]
        }
      ],
      "source": [
        "stacked_barplot(loan, \"gender\", \"FICO\")"
      ]
    },
    {
      "cell_type": "markdown",
      "metadata": {
        "id": "_2KSmhKxtHPv"
      },
      "source": [
        "##### Key Observations\n",
        "\n",
        "1. Home ownership and gender seem to have a slight impact on the FICO scores.\n",
        "2. Age seems to have a much bigger impact on FICO scores."
      ]
    },
    {
      "cell_type": "markdown",
      "metadata": {
        "id": "La3Fo8tCtHPw"
      },
      "source": [
        "**Let us check which of these differences are statistically significant.**\n",
        "\n",
        "- The Chi-Square test is a statistical method to determine if two categorical variables have a significant correlation between them.\n",
        "  \n",
        "  - **Null Hypothesis -** There is no association between the two variables.      \n",
        "  - **Alternate Hypothesis -** There is an association between two variables."
      ]
    },
    {
      "cell_type": "code",
      "execution_count": null,
      "metadata": {
        "colab": {
          "base_uri": "https://localhost:8080/"
        },
        "id": "uHOcA288tHPw",
        "outputId": "bc7fb16c-0ea8-46d2-c605-abde21a09513"
      },
      "outputs": [
        {
          "ename": "",
          "evalue": "",
          "output_type": "error",
          "traceback": [
            "\u001b[1;31mRunning cells with 'Python 3.12.3' requires the ipykernel package.\n",
            "\u001b[1;31mRun the following command to install 'ipykernel' into the Python environment. \n",
            "\u001b[1;31mCommand: '/opt/homebrew/bin/python3 -m pip install ipykernel -U --user --force-reinstall'"
          ]
        }
      ],
      "source": [
        "crosstab = pd.crosstab(\n",
        "    loan[\"FICO\"], loan[\"home_ownership\"]\n",
        ")  # Contingency table of FICO and home_ownership attributes\n",
        "\n",
        "Ho = \"FICO score has no effect on home ownership\"  # Stating the Null Hypothesis\n",
        "Ha = \"FICO score has an effect on home ownership\"  # Stating the Alternate Hypothesis\n",
        "\n",
        "chi, p_value, dof, expected = stats.chi2_contingency(crosstab)\n",
        "\n",
        "if p_value < 0.05:  # Setting our significance level at 5%\n",
        "    print(f\"{Ha} as the p_value ({p_value.round(3)}) < 0.05\")\n",
        "else:\n",
        "    print(f\"{Ho} as the p_value ({p_value.round(3)}) > 0.05\")"
      ]
    },
    {
      "cell_type": "code",
      "execution_count": null,
      "metadata": {
        "colab": {
          "base_uri": "https://localhost:8080/"
        },
        "id": "7Ejk6izmtHPw",
        "outputId": "21397eeb-6b15-4de0-ca4e-af84b40bc3ed"
      },
      "outputs": [
        {
          "ename": "",
          "evalue": "",
          "output_type": "error",
          "traceback": [
            "\u001b[1;31mRunning cells with 'Python 3.12.3' requires the ipykernel package.\n",
            "\u001b[1;31mRun the following command to install 'ipykernel' into the Python environment. \n",
            "\u001b[1;31mCommand: '/opt/homebrew/bin/python3 -m pip install ipykernel -U --user --force-reinstall'"
          ]
        }
      ],
      "source": [
        "crosstab = pd.crosstab(\n",
        "    loan[\"FICO\"], loan[\"gender\"]\n",
        ")  # Contingency table of FICO and gender attributes\n",
        "\n",
        "Ho = \"FICO score has no effect on gender\"  # Stating the Null Hypothesis\n",
        "Ha = \"FICO score has an effect on gender\"  # Stating the Alternate Hypothesis\n",
        "\n",
        "chi, p_value, dof, expected = stats.chi2_contingency(crosstab)\n",
        "\n",
        "if p_value < 0.05:  # Setting our significance level at 5%\n",
        "    print(f\"{Ha} as the p_value ({p_value.round(3)}) < 0.05\")\n",
        "else:\n",
        "    print(f\"{Ho} as the p_value ({p_value.round(3)}) > 0.05\")"
      ]
    },
    {
      "cell_type": "code",
      "execution_count": null,
      "metadata": {
        "colab": {
          "base_uri": "https://localhost:8080/"
        },
        "id": "xtl88VPgtHPw",
        "outputId": "afb49559-d64c-4ce8-a9d4-752439d6f993"
      },
      "outputs": [
        {
          "ename": "",
          "evalue": "",
          "output_type": "error",
          "traceback": [
            "\u001b[1;31mRunning cells with 'Python 3.12.3' requires the ipykernel package.\n",
            "\u001b[1;31mRun the following command to install 'ipykernel' into the Python environment. \n",
            "\u001b[1;31mCommand: '/opt/homebrew/bin/python3 -m pip install ipykernel -U --user --force-reinstall'"
          ]
        }
      ],
      "source": [
        "crosstab = pd.crosstab(\n",
        "    loan[\"FICO\"], loan[\"age\"]\n",
        ")  # Contingency table of FICO and age attributes\n",
        "\n",
        "Ho = \"FICO score has no effect on age\"  # Stating the Null Hypothesis\n",
        "Ha = \"FICO score has an effect on age\"  # Stating the Alternate Hypothesis\n",
        "\n",
        "chi, p_value, dof, expected = stats.chi2_contingency(crosstab)\n",
        "\n",
        "if p_value < 0.05:  # Setting our significance level at 5%\n",
        "    print(f\"{Ha} as the p_value ({p_value.round(3)}) < 0.05\")\n",
        "else:\n",
        "    print(f\"{Ho} as the p_value ({p_value.round(3)}) > 0.05\")"
      ]
    },
    {
      "cell_type": "markdown",
      "metadata": {
        "id": "7yH4yisytHPw"
      },
      "source": [
        "##### Key Observations-\n",
        "\n",
        "* P-value for all tests < 0.01. Hence, all the differences that we see in the 3 plots are statistically significant.\n",
        "* There is a correlation between FICO Score and house_ownership. People who have mortgaged their houses have higher FICO scores than people who own the house.\n",
        "* There is a correlation between FICO Score and gender. More females have >500 FICO scores as compared to Males.\n",
        "* There is a correlation between FICO Score and age. People >25 years of age have higher FICO scores as compared to people of age 20-25."
      ]
    },
    {
      "cell_type": "markdown",
      "metadata": {
        "id": "Y7V4EE9oHfU_"
      },
      "source": [
        "## Data Preprocessing"
      ]
    },
    {
      "cell_type": "markdown",
      "metadata": {
        "id": "vsWZMSgPtHPw"
      },
      "source": [
        "### Data Preparation for Modeling"
      ]
    },
    {
      "cell_type": "code",
      "execution_count": null,
      "metadata": {
        "id": "ZcWhB12vtHPw"
      },
      "outputs": [
        {
          "ename": "",
          "evalue": "",
          "output_type": "error",
          "traceback": [
            "\u001b[1;31mRunning cells with 'Python 3.12.3' requires the ipykernel package.\n",
            "\u001b[1;31mRun the following command to install 'ipykernel' into the Python environment. \n",
            "\u001b[1;31mCommand: '/opt/homebrew/bin/python3 -m pip install ipykernel -U --user --force-reinstall'"
          ]
        }
      ],
      "source": [
        "X = loan.drop([\"isDelinquent\"], axis=1)\n",
        "y = loan[\"isDelinquent\"]"
      ]
    },
    {
      "cell_type": "code",
      "execution_count": null,
      "metadata": {
        "colab": {
          "base_uri": "https://localhost:8080/",
          "height": 0
        },
        "id": "cRj3dOgItHPx",
        "outputId": "992500c1-b63a-4bdb-b5ab-30156b0a9e49"
      },
      "outputs": [
        {
          "ename": "",
          "evalue": "",
          "output_type": "error",
          "traceback": [
            "\u001b[1;31mRunning cells with 'Python 3.12.3' requires the ipykernel package.\n",
            "\u001b[1;31mRun the following command to install 'ipykernel' into the Python environment. \n",
            "\u001b[1;31mCommand: '/opt/homebrew/bin/python3 -m pip install ipykernel -U --user --force-reinstall'"
          ]
        }
      ],
      "source": [
        "# encoding the categorical variables\n",
        "X = pd.get_dummies(X, drop_first=True)\n",
        "X.head()"
      ]
    },
    {
      "cell_type": "markdown",
      "metadata": {
        "id": "e5OAXKM1HQSV"
      },
      "source": [
        "**Creating training and test sets.**"
      ]
    },
    {
      "cell_type": "code",
      "execution_count": null,
      "metadata": {
        "id": "Iu0B6KV9tHPx"
      },
      "outputs": [
        {
          "ename": "",
          "evalue": "",
          "output_type": "error",
          "traceback": [
            "\u001b[1;31mRunning cells with 'Python 3.12.3' requires the ipykernel package.\n",
            "\u001b[1;31mRun the following command to install 'ipykernel' into the Python environment. \n",
            "\u001b[1;31mCommand: '/opt/homebrew/bin/python3 -m pip install ipykernel -U --user --force-reinstall'"
          ]
        }
      ],
      "source": [
        "X_train, X_test, y_train, y_test = train_test_split(X, y, test_size=0.4, random_state=1)"
      ]
    },
    {
      "cell_type": "code",
      "execution_count": null,
      "metadata": {
        "colab": {
          "base_uri": "https://localhost:8080/"
        },
        "id": "UBwRC6_QtHPx",
        "outputId": "99ef6650-fe7b-4395-f110-c13aa107ccfa"
      },
      "outputs": [
        {
          "ename": "",
          "evalue": "",
          "output_type": "error",
          "traceback": [
            "\u001b[1;31mRunning cells with 'Python 3.12.3' requires the ipykernel package.\n",
            "\u001b[1;31mRun the following command to install 'ipykernel' into the Python environment. \n",
            "\u001b[1;31mCommand: '/opt/homebrew/bin/python3 -m pip install ipykernel -U --user --force-reinstall'"
          ]
        }
      ],
      "source": [
        "print(\"Number of rows in train data =\", X_train.shape[0])\n",
        "print(\"Number of rows in test data =\", X_test.shape[0])"
      ]
    },
    {
      "cell_type": "code",
      "execution_count": null,
      "metadata": {
        "colab": {
          "base_uri": "https://localhost:8080/"
        },
        "id": "RsXTeOo6tHPx",
        "outputId": "44a531e6-a30b-4522-e882-ecd6ce7897f5"
      },
      "outputs": [
        {
          "ename": "",
          "evalue": "",
          "output_type": "error",
          "traceback": [
            "\u001b[1;31mRunning cells with 'Python 3.12.3' requires the ipykernel package.\n",
            "\u001b[1;31mRun the following command to install 'ipykernel' into the Python environment. \n",
            "\u001b[1;31mCommand: '/opt/homebrew/bin/python3 -m pip install ipykernel -U --user --force-reinstall'"
          ]
        }
      ],
      "source": [
        "print(\"Percentage of classes in training set:\")\n",
        "print(y_train.value_counts(normalize=True))\n",
        "print(\"Percentage of classes in test set:\")\n",
        "print(y_test.value_counts(normalize=True))"
      ]
    },
    {
      "cell_type": "markdown",
      "metadata": {
        "id": "04FrGFZ3tHPx"
      },
      "source": [
        "## Model Building - Decision Tree Model"
      ]
    },
    {
      "cell_type": "markdown",
      "metadata": {
        "id": "U_imjVzRxLQC"
      },
      "source": [
        "### Build Decision Tree Model"
      ]
    },
    {
      "cell_type": "code",
      "execution_count": null,
      "metadata": {
        "colab": {
          "base_uri": "https://localhost:8080/",
          "height": 0
        },
        "id": "KUN_rjjmtHPy",
        "outputId": "661fa4ad-fd02-4c28-8a5b-3d62820749ea"
      },
      "outputs": [
        {
          "ename": "",
          "evalue": "",
          "output_type": "error",
          "traceback": [
            "\u001b[1;31mRunning cells with 'Python 3.12.3' requires the ipykernel package.\n",
            "\u001b[1;31mRun the following command to install 'ipykernel' into the Python environment. \n",
            "\u001b[1;31mCommand: '/opt/homebrew/bin/python3 -m pip install ipykernel -U --user --force-reinstall'"
          ]
        }
      ],
      "source": [
        "model = DecisionTreeClassifier(criterion=\"gini\", random_state=1)\n",
        "model.fit(X_train, y_train)"
      ]
    },
    {
      "cell_type": "markdown",
      "metadata": {
        "id": "pv7tdUl_tHPx"
      },
      "source": [
        "### Model performance evaluation\n",
        "\n",
        "### Model can make wrong predictions as:\n",
        "\n",
        "1. Predicting a customer will not be behind on payments (Non-Delinquent) but in reality the customer would be behind on payments.\n",
        "\n",
        "2. Predicting a customer will be behind on payments (Delinquent) but in reality the customer would not be behind on payments (Non-Delinquent).\n",
        "\n",
        "\n",
        "### Which case is more important?\n",
        "\n",
        "* If we predict a non-delinquent customer as a delinquent customer bank would lose an opportunity of providing loan to a potential customer.\n",
        "\n",
        "### How to reduce this loss i.e need to reduce False Negatives?\n",
        "*  `recall` should be maximized, the greater the recall higher the chances of minimizing the false negatives."
      ]
    },
    {
      "cell_type": "markdown",
      "metadata": {
        "id": "fld-ppK9tHPx"
      },
      "source": [
        "#### First, let's create functions to calculate different metrics and confusion matrix so that we don't have to use the same code repeatedly for each model.\n",
        "* The model_performance_classification_sklearn function will be used to check the model performance of models.\n",
        "* The make_confusion_matrix function will be used to plot confusion matrix."
      ]
    },
    {
      "cell_type": "code",
      "execution_count": null,
      "metadata": {
        "id": "AM0byVj8tHPx"
      },
      "outputs": [
        {
          "ename": "",
          "evalue": "",
          "output_type": "error",
          "traceback": [
            "\u001b[1;31mRunning cells with 'Python 3.12.3' requires the ipykernel package.\n",
            "\u001b[1;31mRun the following command to install 'ipykernel' into the Python environment. \n",
            "\u001b[1;31mCommand: '/opt/homebrew/bin/python3 -m pip install ipykernel -U --user --force-reinstall'"
          ]
        }
      ],
      "source": [
        "# defining a function to compute different metrics to check performance of a classification model built using sklearn\n",
        "def model_performance_classification_sklearn(model, predictors, target):\n",
        "    \"\"\"\n",
        "    Function to compute different metrics to check classification model performance\n",
        "\n",
        "    model: classifier\n",
        "    predictors: independent variables\n",
        "    target: dependent variable\n",
        "    \"\"\"\n",
        "\n",
        "    # predicting using the independent variables\n",
        "    pred = model.predict(predictors)\n",
        "\n",
        "    acc = accuracy_score(target, pred)  # to compute Accuracy\n",
        "    recall = recall_score(target, pred)  # to compute Recall\n",
        "    precision = precision_score(target, pred)  # to compute Precision\n",
        "    f1 = f1_score(target, pred)  # to compute F1-score\n",
        "\n",
        "    # creating a dataframe of metrics\n",
        "    df_perf = pd.DataFrame(\n",
        "        {\"Accuracy\": acc, \"Recall\": recall, \"Precision\": precision, \"F1\": f1,},\n",
        "        index=[0],\n",
        "    )\n",
        "\n",
        "    return df_perf"
      ]
    },
    {
      "cell_type": "code",
      "execution_count": null,
      "metadata": {
        "id": "3NDu-tX7tHPy"
      },
      "outputs": [
        {
          "ename": "",
          "evalue": "",
          "output_type": "error",
          "traceback": [
            "\u001b[1;31mRunning cells with 'Python 3.12.3' requires the ipykernel package.\n",
            "\u001b[1;31mRun the following command to install 'ipykernel' into the Python environment. \n",
            "\u001b[1;31mCommand: '/opt/homebrew/bin/python3 -m pip install ipykernel -U --user --force-reinstall'"
          ]
        }
      ],
      "source": [
        "def confusion_matrix_sklearn(model, predictors, target):\n",
        "    \"\"\"\n",
        "    To plot the confusion_matrix with percentages\n",
        "\n",
        "    model: classifier\n",
        "    predictors: independent variables\n",
        "    target: dependent variable\n",
        "    \"\"\"\n",
        "    y_pred = model.predict(predictors)\n",
        "    cm = confusion_matrix(target, y_pred)\n",
        "    labels = np.asarray(\n",
        "        [\n",
        "            [\"{0:0.0f}\".format(item) + \"\\n{0:.2%}\".format(item / cm.flatten().sum())]\n",
        "            for item in cm.flatten()\n",
        "        ]\n",
        "    ).reshape(2, 2)\n",
        "\n",
        "    plt.figure(figsize=(6, 4))\n",
        "    sns.heatmap(cm, annot=labels, fmt=\"\")\n",
        "    plt.ylabel(\"True label\")\n",
        "    plt.xlabel(\"Predicted label\")"
      ]
    },
    {
      "cell_type": "markdown",
      "metadata": {
        "id": "d8XDDQvitHPy"
      },
      "source": [
        "### Checking model performance on training set"
      ]
    },
    {
      "cell_type": "code",
      "execution_count": null,
      "metadata": {
        "colab": {
          "base_uri": "https://localhost:8080/",
          "height": 0
        },
        "id": "aUmC_rULtHPy",
        "outputId": "94181153-5716-4d81-96b8-393c5fc84aa5"
      },
      "outputs": [
        {
          "ename": "",
          "evalue": "",
          "output_type": "error",
          "traceback": [
            "\u001b[1;31mRunning cells with 'Python 3.12.3' requires the ipykernel package.\n",
            "\u001b[1;31mRun the following command to install 'ipykernel' into the Python environment. \n",
            "\u001b[1;31mCommand: '/opt/homebrew/bin/python3 -m pip install ipykernel -U --user --force-reinstall'"
          ]
        }
      ],
      "source": [
        "decision_tree_perf_train = model_performance_classification_sklearn(\n",
        "    model, X_train, y_train\n",
        ")\n",
        "decision_tree_perf_train"
      ]
    },
    {
      "cell_type": "code",
      "execution_count": null,
      "metadata": {
        "colab": {
          "base_uri": "https://localhost:8080/",
          "height": 0
        },
        "id": "k9ubPxHptHPy",
        "outputId": "e51e3b47-7b25-4fcf-83b3-a9a159b1024f"
      },
      "outputs": [
        {
          "ename": "",
          "evalue": "",
          "output_type": "error",
          "traceback": [
            "\u001b[1;31mRunning cells with 'Python 3.12.3' requires the ipykernel package.\n",
            "\u001b[1;31mRun the following command to install 'ipykernel' into the Python environment. \n",
            "\u001b[1;31mCommand: '/opt/homebrew/bin/python3 -m pip install ipykernel -U --user --force-reinstall'"
          ]
        }
      ],
      "source": [
        "confusion_matrix_sklearn(model, X_train, y_train)"
      ]
    },
    {
      "cell_type": "markdown",
      "metadata": {
        "id": "SRz5Aks1tHPy"
      },
      "source": [
        "### Checking model performance on test set"
      ]
    },
    {
      "cell_type": "code",
      "execution_count": null,
      "metadata": {
        "colab": {
          "base_uri": "https://localhost:8080/",
          "height": 0
        },
        "id": "SwP_yAlAtHPz",
        "outputId": "1258e8d4-1072-4009-f7cf-69ec7da12d34"
      },
      "outputs": [
        {
          "ename": "",
          "evalue": "",
          "output_type": "error",
          "traceback": [
            "\u001b[1;31mRunning cells with 'Python 3.12.3' requires the ipykernel package.\n",
            "\u001b[1;31mRun the following command to install 'ipykernel' into the Python environment. \n",
            "\u001b[1;31mCommand: '/opt/homebrew/bin/python3 -m pip install ipykernel -U --user --force-reinstall'"
          ]
        }
      ],
      "source": [
        "decision_tree_perf_test = model_performance_classification_sklearn(\n",
        "    model, X_test, y_test\n",
        ")\n",
        "decision_tree_perf_test"
      ]
    },
    {
      "cell_type": "code",
      "execution_count": null,
      "metadata": {
        "colab": {
          "base_uri": "https://localhost:8080/",
          "height": 0
        },
        "id": "GG-ZCnjitHPz",
        "outputId": "ae0ed4a1-4ba3-45af-8c85-030b0fb01837"
      },
      "outputs": [
        {
          "ename": "",
          "evalue": "",
          "output_type": "error",
          "traceback": [
            "\u001b[1;31mRunning cells with 'Python 3.12.3' requires the ipykernel package.\n",
            "\u001b[1;31mRun the following command to install 'ipykernel' into the Python environment. \n",
            "\u001b[1;31mCommand: '/opt/homebrew/bin/python3 -m pip install ipykernel -U --user --force-reinstall'"
          ]
        }
      ],
      "source": [
        "confusion_matrix_sklearn(model, X_test, y_test)"
      ]
    },
    {
      "cell_type": "markdown",
      "metadata": {
        "id": "xS--AHAOtHPz"
      },
      "source": [
        "* Model is giving good and generalized results on training and test set."
      ]
    },
    {
      "cell_type": "markdown",
      "metadata": {
        "id": "WGn7w06uxLQP"
      },
      "source": [
        "### Visualizing the Decision Tree"
      ]
    },
    {
      "cell_type": "code",
      "execution_count": null,
      "metadata": {
        "colab": {
          "base_uri": "https://localhost:8080/"
        },
        "id": "Np3yrTbktHPz",
        "outputId": "cfe9495e-ff28-47c0-9a73-4cc28bf3f9ba"
      },
      "outputs": [
        {
          "ename": "",
          "evalue": "",
          "output_type": "error",
          "traceback": [
            "\u001b[1;31mRunning cells with 'Python 3.12.3' requires the ipykernel package.\n",
            "\u001b[1;31mRun the following command to install 'ipykernel' into the Python environment. \n",
            "\u001b[1;31mCommand: '/opt/homebrew/bin/python3 -m pip install ipykernel -U --user --force-reinstall'"
          ]
        }
      ],
      "source": [
        "column_names = list(X.columns)\n",
        "feature_names = column_names\n",
        "print(feature_names)"
      ]
    },
    {
      "cell_type": "code",
      "execution_count": null,
      "metadata": {
        "colab": {
          "base_uri": "https://localhost:8080/",
          "height": 0
        },
        "id": "RYaMUYz4tHPz",
        "outputId": "1c4cc62d-7dc3-4c14-849f-5993f6fd9f67"
      },
      "outputs": [
        {
          "ename": "",
          "evalue": "",
          "output_type": "error",
          "traceback": [
            "\u001b[1;31mRunning cells with 'Python 3.12.3' requires the ipykernel package.\n",
            "\u001b[1;31mRun the following command to install 'ipykernel' into the Python environment. \n",
            "\u001b[1;31mCommand: '/opt/homebrew/bin/python3 -m pip install ipykernel -U --user --force-reinstall'"
          ]
        }
      ],
      "source": [
        "plt.figure(figsize=(20, 30))\n",
        "\n",
        "out = tree.plot_tree(\n",
        "    model,\n",
        "    feature_names=feature_names,\n",
        "    filled=True,\n",
        "    fontsize=9,\n",
        "    node_ids=True,\n",
        "    class_names=True,\n",
        ")\n",
        "for o in out:\n",
        "    arrow = o.arrow_patch\n",
        "    if arrow is not None:\n",
        "        arrow.set_edgecolor(\"black\")\n",
        "        arrow.set_linewidth(1)\n",
        "plt.show()"
      ]
    },
    {
      "cell_type": "code",
      "execution_count": null,
      "metadata": {
        "colab": {
          "base_uri": "https://localhost:8080/"
        },
        "id": "nGQ9ICqctHPz",
        "outputId": "108c22bc-4e30-4638-d2dd-9307bfcc22d5"
      },
      "outputs": [
        {
          "ename": "",
          "evalue": "",
          "output_type": "error",
          "traceback": [
            "\u001b[1;31mRunning cells with 'Python 3.12.3' requires the ipykernel package.\n",
            "\u001b[1;31mRun the following command to install 'ipykernel' into the Python environment. \n",
            "\u001b[1;31mCommand: '/opt/homebrew/bin/python3 -m pip install ipykernel -U --user --force-reinstall'"
          ]
        }
      ],
      "source": [
        "# Text report showing the rules of a decision tree -\n",
        "\n",
        "print(tree.export_text(model, feature_names=feature_names, show_weights=True))"
      ]
    },
    {
      "cell_type": "code",
      "execution_count": null,
      "metadata": {
        "colab": {
          "base_uri": "https://localhost:8080/",
          "height": 0
        },
        "id": "4qiT3x-WtHP0",
        "outputId": "50208ca9-4db6-429c-d4d5-684d399b2690"
      },
      "outputs": [
        {
          "ename": "",
          "evalue": "",
          "output_type": "error",
          "traceback": [
            "\u001b[1;31mRunning cells with 'Python 3.12.3' requires the ipykernel package.\n",
            "\u001b[1;31mRun the following command to install 'ipykernel' into the Python environment. \n",
            "\u001b[1;31mCommand: '/opt/homebrew/bin/python3 -m pip install ipykernel -U --user --force-reinstall'"
          ]
        }
      ],
      "source": [
        "importances = model.feature_importances_\n",
        "indices = np.argsort(importances)\n",
        "\n",
        "plt.figure(figsize=(12, 12))\n",
        "plt.title(\"Feature Importances\")\n",
        "plt.barh(range(len(indices)), importances[indices], color=\"violet\", align=\"center\")\n",
        "plt.yticks(range(len(indices)), [feature_names[i] for i in indices])\n",
        "plt.xlabel(\"Relative Importance\")\n",
        "plt.show()"
      ]
    },
    {
      "cell_type": "markdown",
      "metadata": {
        "id": "oXIWGor5tHP0"
      },
      "source": [
        "* FICO score, duration of loan and gender are the top 3 important features."
      ]
    },
    {
      "cell_type": "markdown",
      "metadata": {
        "id": "WUfIDKYkJHqv"
      },
      "source": [
        "### Decision Tree (Pre-pruning)"
      ]
    },
    {
      "cell_type": "markdown",
      "metadata": {
        "id": "QMt62ns9tHP0"
      },
      "source": [
        "#### Using GridSearch for Hyperparameter tuning of our tree model\n",
        "* Let's see if we can improve our model performance even more."
      ]
    },
    {
      "cell_type": "code",
      "execution_count": null,
      "metadata": {
        "colab": {
          "base_uri": "https://localhost:8080/",
          "height": 0
        },
        "id": "EGJOqdZUxLQu",
        "outputId": "831b5bdb-d412-4a84-ddaf-3f30192bd165"
      },
      "outputs": [
        {
          "ename": "",
          "evalue": "",
          "output_type": "error",
          "traceback": [
            "\u001b[1;31mRunning cells with 'Python 3.12.3' requires the ipykernel package.\n",
            "\u001b[1;31mRun the following command to install 'ipykernel' into the Python environment. \n",
            "\u001b[1;31mCommand: '/opt/homebrew/bin/python3 -m pip install ipykernel -U --user --force-reinstall'"
          ]
        }
      ],
      "source": [
        "# Choose the type of classifier.\n",
        "estimator = DecisionTreeClassifier(random_state=1)\n",
        "\n",
        "# Grid of parameters to choose from\n",
        "\n",
        "parameters = {\n",
        "    \"max_depth\": [np.arange(2, 50, 5), None],\n",
        "    \"criterion\": [\"entropy\", \"gini\"],\n",
        "    \"splitter\": [\"best\", \"random\"],\n",
        "    \"min_impurity_decrease\": [0.000001, 0.00001, 0.0001],\n",
        "}\n",
        "\n",
        "# Type of scoring used to compare parameter combinations\n",
        "acc_scorer = make_scorer(recall_score)\n",
        "\n",
        "# Run the grid search\n",
        "grid_obj = GridSearchCV(estimator, parameters, scoring=acc_scorer, cv=5)\n",
        "grid_obj = grid_obj.fit(X_train, y_train)\n",
        "\n",
        "# Set the clf to the best combination of parameters\n",
        "estimator = grid_obj.best_estimator_\n",
        "\n",
        "# Fit the best algorithm to the data.\n",
        "estimator.fit(X_train, y_train)"
      ]
    },
    {
      "cell_type": "markdown",
      "metadata": {
        "id": "TbY1Lz1otHP1"
      },
      "source": [
        "### Checking performance on training set"
      ]
    },
    {
      "cell_type": "code",
      "execution_count": null,
      "metadata": {
        "colab": {
          "base_uri": "https://localhost:8080/",
          "height": 0
        },
        "id": "6NZkFW9ttHP1",
        "outputId": "e930c4de-ce95-4323-feb4-32bfeb0b81e1"
      },
      "outputs": [
        {
          "ename": "",
          "evalue": "",
          "output_type": "error",
          "traceback": [
            "\u001b[1;31mRunning cells with 'Python 3.12.3' requires the ipykernel package.\n",
            "\u001b[1;31mRun the following command to install 'ipykernel' into the Python environment. \n",
            "\u001b[1;31mCommand: '/opt/homebrew/bin/python3 -m pip install ipykernel -U --user --force-reinstall'"
          ]
        }
      ],
      "source": [
        "decision_tree_tune_perf_train = model_performance_classification_sklearn(\n",
        "    estimator, X_train, y_train\n",
        ")\n",
        "decision_tree_tune_perf_train"
      ]
    },
    {
      "cell_type": "code",
      "execution_count": null,
      "metadata": {
        "colab": {
          "base_uri": "https://localhost:8080/",
          "height": 0
        },
        "id": "pjNK6TqrtHP2",
        "outputId": "ff5bb087-1f11-475f-e271-84c85c5b82f4"
      },
      "outputs": [
        {
          "ename": "",
          "evalue": "",
          "output_type": "error",
          "traceback": [
            "\u001b[1;31mRunning cells with 'Python 3.12.3' requires the ipykernel package.\n",
            "\u001b[1;31mRun the following command to install 'ipykernel' into the Python environment. \n",
            "\u001b[1;31mCommand: '/opt/homebrew/bin/python3 -m pip install ipykernel -U --user --force-reinstall'"
          ]
        }
      ],
      "source": [
        "confusion_matrix_sklearn(estimator, X_train, y_train)"
      ]
    },
    {
      "cell_type": "markdown",
      "metadata": {
        "id": "fmBH275dtHP2"
      },
      "source": [
        "* The Recall has improved on the training set as compared to the initial model."
      ]
    },
    {
      "cell_type": "markdown",
      "metadata": {
        "id": "2YgsRY9ktHP2"
      },
      "source": [
        "### Checking model performance on test set"
      ]
    },
    {
      "cell_type": "code",
      "execution_count": null,
      "metadata": {
        "colab": {
          "base_uri": "https://localhost:8080/",
          "height": 0
        },
        "id": "v6RFHum3tHP2",
        "outputId": "8d9158af-c110-465c-c5a9-ac170ecffb15"
      },
      "outputs": [
        {
          "ename": "",
          "evalue": "",
          "output_type": "error",
          "traceback": [
            "\u001b[1;31mRunning cells with 'Python 3.12.3' requires the ipykernel package.\n",
            "\u001b[1;31mRun the following command to install 'ipykernel' into the Python environment. \n",
            "\u001b[1;31mCommand: '/opt/homebrew/bin/python3 -m pip install ipykernel -U --user --force-reinstall'"
          ]
        }
      ],
      "source": [
        "decision_tree_tune_perf_test = model_performance_classification_sklearn(\n",
        "    estimator, X_test, y_test\n",
        ")\n",
        "\n",
        "decision_tree_tune_perf_test"
      ]
    },
    {
      "cell_type": "code",
      "execution_count": null,
      "metadata": {
        "colab": {
          "base_uri": "https://localhost:8080/",
          "height": 0
        },
        "id": "NksQp24YtHP2",
        "outputId": "b0dd7fe1-1bdc-4cb5-e678-97531d386380"
      },
      "outputs": [
        {
          "ename": "",
          "evalue": "",
          "output_type": "error",
          "traceback": [
            "\u001b[1;31mRunning cells with 'Python 3.12.3' requires the ipykernel package.\n",
            "\u001b[1;31mRun the following command to install 'ipykernel' into the Python environment. \n",
            "\u001b[1;31mCommand: '/opt/homebrew/bin/python3 -m pip install ipykernel -U --user --force-reinstall'"
          ]
        }
      ],
      "source": [
        "confusion_matrix_sklearn(estimator, X_test, y_test)"
      ]
    },
    {
      "cell_type": "markdown",
      "metadata": {
        "id": "I5bvkueUtHP2"
      },
      "source": [
        "* After hyperparameter tuning the model has performance has remained same and the model has become simpler."
      ]
    },
    {
      "cell_type": "code",
      "execution_count": null,
      "metadata": {
        "colab": {
          "base_uri": "https://localhost:8080/",
          "height": 0
        },
        "id": "d40H3OM6tHP2",
        "outputId": "9555c07d-3a57-4d25-adb9-f4d9e3ac0937"
      },
      "outputs": [
        {
          "ename": "",
          "evalue": "",
          "output_type": "error",
          "traceback": [
            "\u001b[1;31mRunning cells with 'Python 3.12.3' requires the ipykernel package.\n",
            "\u001b[1;31mRun the following command to install 'ipykernel' into the Python environment. \n",
            "\u001b[1;31mCommand: '/opt/homebrew/bin/python3 -m pip install ipykernel -U --user --force-reinstall'"
          ]
        }
      ],
      "source": [
        "plt.figure(figsize=(15, 12))\n",
        "\n",
        "tree.plot_tree(\n",
        "    estimator,\n",
        "    feature_names=feature_names,\n",
        "    filled=True,\n",
        "    fontsize=9,\n",
        "    node_ids=True,\n",
        "    class_names=True,\n",
        ")\n",
        "plt.show()"
      ]
    },
    {
      "cell_type": "markdown",
      "metadata": {
        "id": "fHdG69b1tHP3"
      },
      "source": [
        "* We are getting a simplified tree after pre-pruning."
      ]
    },
    {
      "cell_type": "markdown",
      "metadata": {
        "id": "guc7EuIJxLQ-"
      },
      "source": [
        "### Cost Complexity Pruning"
      ]
    },
    {
      "cell_type": "code",
      "execution_count": null,
      "metadata": {
        "id": "498-a5xCxLQ_"
      },
      "outputs": [
        {
          "ename": "",
          "evalue": "",
          "output_type": "error",
          "traceback": [
            "\u001b[1;31mRunning cells with 'Python 3.12.3' requires the ipykernel package.\n",
            "\u001b[1;31mRun the following command to install 'ipykernel' into the Python environment. \n",
            "\u001b[1;31mCommand: '/opt/homebrew/bin/python3 -m pip install ipykernel -U --user --force-reinstall'"
          ]
        }
      ],
      "source": [
        "clf = DecisionTreeClassifier(random_state=1)\n",
        "path = clf.cost_complexity_pruning_path(X_train, y_train)\n",
        "ccp_alphas, impurities = path.ccp_alphas, path.impurities"
      ]
    },
    {
      "cell_type": "code",
      "execution_count": null,
      "metadata": {
        "colab": {
          "base_uri": "https://localhost:8080/",
          "height": 0
        },
        "id": "J4XkCPSWxLRB",
        "outputId": "14a573b3-5310-4563-a4dd-af7d09ae293d"
      },
      "outputs": [
        {
          "ename": "",
          "evalue": "",
          "output_type": "error",
          "traceback": [
            "\u001b[1;31mRunning cells with 'Python 3.12.3' requires the ipykernel package.\n",
            "\u001b[1;31mRun the following command to install 'ipykernel' into the Python environment. \n",
            "\u001b[1;31mCommand: '/opt/homebrew/bin/python3 -m pip install ipykernel -U --user --force-reinstall'"
          ]
        }
      ],
      "source": [
        "pd.DataFrame(path)"
      ]
    },
    {
      "cell_type": "code",
      "execution_count": null,
      "metadata": {
        "colab": {
          "base_uri": "https://localhost:8080/",
          "height": 0
        },
        "id": "i_Wed1SXxLRE",
        "outputId": "8b12eb86-6998-4f6f-eb0d-190933d3e1ac"
      },
      "outputs": [
        {
          "ename": "",
          "evalue": "",
          "output_type": "error",
          "traceback": [
            "\u001b[1;31mRunning cells with 'Python 3.12.3' requires the ipykernel package.\n",
            "\u001b[1;31mRun the following command to install 'ipykernel' into the Python environment. \n",
            "\u001b[1;31mCommand: '/opt/homebrew/bin/python3 -m pip install ipykernel -U --user --force-reinstall'"
          ]
        }
      ],
      "source": [
        "fig, ax = plt.subplots(figsize=(15, 5))\n",
        "ax.plot(ccp_alphas[:-1], impurities[:-1], marker=\"o\", drawstyle=\"steps-post\")\n",
        "ax.set_xlabel(\"effective alpha\")\n",
        "ax.set_ylabel(\"total impurity of leaves\")\n",
        "ax.set_title(\"Total Impurity vs effective alpha for training set\")\n",
        "plt.show()"
      ]
    },
    {
      "cell_type": "markdown",
      "metadata": {
        "id": "-QsO1CYIxLRG"
      },
      "source": [
        "Next, we train a decision tree using the effective alphas. The last value\n",
        "in ``ccp_alphas`` is the alpha value that prunes the whole tree,\n",
        "leaving the tree, ``clfs[-1]``, with one node."
      ]
    },
    {
      "cell_type": "code",
      "execution_count": null,
      "metadata": {
        "colab": {
          "base_uri": "https://localhost:8080/"
        },
        "id": "4L-P50vSxLRH",
        "outputId": "fee23919-460b-4249-d3e0-da7a2fd1171b"
      },
      "outputs": [
        {
          "ename": "",
          "evalue": "",
          "output_type": "error",
          "traceback": [
            "\u001b[1;31mRunning cells with 'Python 3.12.3' requires the ipykernel package.\n",
            "\u001b[1;31mRun the following command to install 'ipykernel' into the Python environment. \n",
            "\u001b[1;31mCommand: '/opt/homebrew/bin/python3 -m pip install ipykernel -U --user --force-reinstall'"
          ]
        }
      ],
      "source": [
        "clfs = []\n",
        "for ccp_alpha in ccp_alphas:\n",
        "    clf = DecisionTreeClassifier(random_state=1, ccp_alpha=ccp_alpha)\n",
        "    clf.fit(X_train, y_train)\n",
        "    clfs.append(clf)\n",
        "print(\n",
        "    \"Number of nodes in the last tree is: {} with ccp_alpha: {}\".format(\n",
        "        clfs[-1].tree_.node_count, ccp_alphas[-1]\n",
        "    )\n",
        ")"
      ]
    },
    {
      "cell_type": "markdown",
      "metadata": {
        "id": "WKsOMwt2xLRJ"
      },
      "source": [
        "\n",
        "For the remainder, we remove the last element in\n",
        "``clfs`` and ``ccp_alphas``, because it is the trivial tree with only one\n",
        "node. Here we show that the number of nodes and tree depth decreases as alpha\n",
        "increases."
      ]
    },
    {
      "cell_type": "code",
      "execution_count": null,
      "metadata": {
        "colab": {
          "base_uri": "https://localhost:8080/",
          "height": 0
        },
        "id": "QU2un6_sxLRJ",
        "outputId": "2a03d9cf-24df-4766-b25c-64ab52d2459f"
      },
      "outputs": [
        {
          "ename": "",
          "evalue": "",
          "output_type": "error",
          "traceback": [
            "\u001b[1;31mRunning cells with 'Python 3.12.3' requires the ipykernel package.\n",
            "\u001b[1;31mRun the following command to install 'ipykernel' into the Python environment. \n",
            "\u001b[1;31mCommand: '/opt/homebrew/bin/python3 -m pip install ipykernel -U --user --force-reinstall'"
          ]
        }
      ],
      "source": [
        "clfs = clfs[:-1]\n",
        "ccp_alphas = ccp_alphas[:-1]\n",
        "\n",
        "node_counts = [clf.tree_.node_count for clf in clfs]\n",
        "depth = [clf.tree_.max_depth for clf in clfs]\n",
        "fig, ax = plt.subplots(2, 1, figsize=(10, 7))\n",
        "ax[0].plot(ccp_alphas, node_counts, marker=\"o\", drawstyle=\"steps-post\")\n",
        "ax[0].set_xlabel(\"alpha\")\n",
        "ax[0].set_ylabel(\"number of nodes\")\n",
        "ax[0].set_title(\"Number of nodes vs alpha\")\n",
        "ax[1].plot(ccp_alphas, depth, marker=\"o\", drawstyle=\"steps-post\")\n",
        "ax[1].set_xlabel(\"alpha\")\n",
        "ax[1].set_ylabel(\"depth of tree\")\n",
        "ax[1].set_title(\"Depth vs alpha\")\n",
        "fig.tight_layout()"
      ]
    },
    {
      "cell_type": "markdown",
      "metadata": {
        "id": "62dQ0wu5xLRL"
      },
      "source": [
        "### Recall vs alpha for training and testing sets"
      ]
    },
    {
      "cell_type": "code",
      "execution_count": null,
      "metadata": {
        "id": "kFy56kcixLRS"
      },
      "outputs": [
        {
          "ename": "",
          "evalue": "",
          "output_type": "error",
          "traceback": [
            "\u001b[1;31mRunning cells with 'Python 3.12.3' requires the ipykernel package.\n",
            "\u001b[1;31mRun the following command to install 'ipykernel' into the Python environment. \n",
            "\u001b[1;31mCommand: '/opt/homebrew/bin/python3 -m pip install ipykernel -U --user --force-reinstall'"
          ]
        }
      ],
      "source": [
        "recall_train = []\n",
        "for clf in clfs:\n",
        "    pred_train = clf.predict(X_train)\n",
        "    values_train = recall_score(y_train, pred_train)\n",
        "    recall_train.append(values_train)"
      ]
    },
    {
      "cell_type": "code",
      "execution_count": null,
      "metadata": {
        "id": "E5VEnQ8pxLRT"
      },
      "outputs": [
        {
          "ename": "",
          "evalue": "",
          "output_type": "error",
          "traceback": [
            "\u001b[1;31mRunning cells with 'Python 3.12.3' requires the ipykernel package.\n",
            "\u001b[1;31mRun the following command to install 'ipykernel' into the Python environment. \n",
            "\u001b[1;31mCommand: '/opt/homebrew/bin/python3 -m pip install ipykernel -U --user --force-reinstall'"
          ]
        }
      ],
      "source": [
        "recall_test = []\n",
        "for clf in clfs:\n",
        "    pred_test = clf.predict(X_test)\n",
        "    values_test = recall_score(y_test, pred_test)\n",
        "    recall_test.append(values_test)"
      ]
    },
    {
      "cell_type": "code",
      "execution_count": null,
      "metadata": {
        "colab": {
          "base_uri": "https://localhost:8080/",
          "height": 0
        },
        "id": "eB0uDF0GxLRW",
        "outputId": "a869ba80-77d3-4005-ccaa-6da0f2c404fc"
      },
      "outputs": [
        {
          "ename": "",
          "evalue": "",
          "output_type": "error",
          "traceback": [
            "\u001b[1;31mRunning cells with 'Python 3.12.3' requires the ipykernel package.\n",
            "\u001b[1;31mRun the following command to install 'ipykernel' into the Python environment. \n",
            "\u001b[1;31mCommand: '/opt/homebrew/bin/python3 -m pip install ipykernel -U --user --force-reinstall'"
          ]
        }
      ],
      "source": [
        "fig, ax = plt.subplots(figsize=(15, 5))\n",
        "ax.set_xlabel(\"alpha\")\n",
        "ax.set_ylabel(\"Recall\")\n",
        "ax.set_title(\"Recall vs alpha for training and testing sets\")\n",
        "ax.plot(ccp_alphas, recall_train, marker=\"o\", label=\"train\", drawstyle=\"steps-post\")\n",
        "ax.plot(ccp_alphas, recall_test, marker=\"o\", label=\"test\", drawstyle=\"steps-post\")\n",
        "ax.legend()\n",
        "plt.show()"
      ]
    },
    {
      "cell_type": "code",
      "execution_count": null,
      "metadata": {
        "colab": {
          "base_uri": "https://localhost:8080/"
        },
        "id": "_uIVrmaGxLRZ",
        "outputId": "dd1e8ec8-1f88-4995-c20b-e414a20d2003",
        "scrolled": true
      },
      "outputs": [
        {
          "ename": "",
          "evalue": "",
          "output_type": "error",
          "traceback": [
            "\u001b[1;31mRunning cells with 'Python 3.12.3' requires the ipykernel package.\n",
            "\u001b[1;31mRun the following command to install 'ipykernel' into the Python environment. \n",
            "\u001b[1;31mCommand: '/opt/homebrew/bin/python3 -m pip install ipykernel -U --user --force-reinstall'"
          ]
        }
      ],
      "source": [
        "# creating the model where we get highest train and test recall\n",
        "index_best_model = np.argmax(recall_test)\n",
        "best_model = clfs[index_best_model]\n",
        "print(best_model)"
      ]
    },
    {
      "cell_type": "markdown",
      "metadata": {
        "id": "rW3G9W8PtHP6"
      },
      "source": [
        "### Checking model performance on training set"
      ]
    },
    {
      "cell_type": "code",
      "execution_count": null,
      "metadata": {
        "colab": {
          "base_uri": "https://localhost:8080/",
          "height": 0
        },
        "id": "FJcEFBnatHP6",
        "outputId": "44ce736e-c650-4a42-d7f5-911080ba723b"
      },
      "outputs": [
        {
          "ename": "",
          "evalue": "",
          "output_type": "error",
          "traceback": [
            "\u001b[1;31mRunning cells with 'Python 3.12.3' requires the ipykernel package.\n",
            "\u001b[1;31mRun the following command to install 'ipykernel' into the Python environment. \n",
            "\u001b[1;31mCommand: '/opt/homebrew/bin/python3 -m pip install ipykernel -U --user --force-reinstall'"
          ]
        }
      ],
      "source": [
        "decision_tree_postpruned_perf_train = model_performance_classification_sklearn(\n",
        "    best_model, X_train, y_train\n",
        ")\n",
        "decision_tree_postpruned_perf_train"
      ]
    },
    {
      "cell_type": "code",
      "execution_count": null,
      "metadata": {
        "colab": {
          "base_uri": "https://localhost:8080/",
          "height": 0
        },
        "id": "x5hlHtRxtHP7",
        "outputId": "1ccd497c-3130-407a-b8a0-768408993a60"
      },
      "outputs": [
        {
          "ename": "",
          "evalue": "",
          "output_type": "error",
          "traceback": [
            "\u001b[1;31mRunning cells with 'Python 3.12.3' requires the ipykernel package.\n",
            "\u001b[1;31mRun the following command to install 'ipykernel' into the Python environment. \n",
            "\u001b[1;31mCommand: '/opt/homebrew/bin/python3 -m pip install ipykernel -U --user --force-reinstall'"
          ]
        }
      ],
      "source": [
        "confusion_matrix_sklearn(best_model, X_train, y_train)"
      ]
    },
    {
      "cell_type": "markdown",
      "metadata": {
        "id": "JLZDokvTtHP7"
      },
      "source": [
        "### Checking model performance on test set"
      ]
    },
    {
      "cell_type": "code",
      "execution_count": null,
      "metadata": {
        "colab": {
          "base_uri": "https://localhost:8080/",
          "height": 0
        },
        "id": "rXI5QL_BtHP7",
        "outputId": "af93084b-1ce3-4345-ef07-4fb0195edf09"
      },
      "outputs": [
        {
          "ename": "",
          "evalue": "",
          "output_type": "error",
          "traceback": [
            "\u001b[1;31mRunning cells with 'Python 3.12.3' requires the ipykernel package.\n",
            "\u001b[1;31mRun the following command to install 'ipykernel' into the Python environment. \n",
            "\u001b[1;31mCommand: '/opt/homebrew/bin/python3 -m pip install ipykernel -U --user --force-reinstall'"
          ]
        }
      ],
      "source": [
        "decision_tree_postpruned_perf_test = model_performance_classification_sklearn(\n",
        "    best_model, X_test, y_test\n",
        ")\n",
        "decision_tree_postpruned_perf_test"
      ]
    },
    {
      "cell_type": "code",
      "execution_count": null,
      "metadata": {
        "colab": {
          "base_uri": "https://localhost:8080/",
          "height": 0
        },
        "id": "Rwy4PB4QtHP7",
        "outputId": "8ea3e5db-2214-4d15-e377-3656b100a8cd"
      },
      "outputs": [
        {
          "ename": "",
          "evalue": "",
          "output_type": "error",
          "traceback": [
            "\u001b[1;31mRunning cells with 'Python 3.12.3' requires the ipykernel package.\n",
            "\u001b[1;31mRun the following command to install 'ipykernel' into the Python environment. \n",
            "\u001b[1;31mCommand: '/opt/homebrew/bin/python3 -m pip install ipykernel -U --user --force-reinstall'"
          ]
        }
      ],
      "source": [
        "confusion_matrix_sklearn(best_model, X_train, y_train)"
      ]
    },
    {
      "cell_type": "markdown",
      "metadata": {
        "id": "Mf83_7MwtHP7"
      },
      "source": [
        "* With post-pruning we are getting good and generalized model performance on both training and test set.\n",
        "* The recall has improved further."
      ]
    },
    {
      "cell_type": "markdown",
      "metadata": {
        "id": "UvvLsO1qtHP7"
      },
      "source": [
        "### Visualizing the Decision Tree"
      ]
    },
    {
      "cell_type": "code",
      "execution_count": null,
      "metadata": {
        "colab": {
          "base_uri": "https://localhost:8080/",
          "height": 0
        },
        "id": "cRRrogVyxLRg",
        "outputId": "a11892c2-f6a6-4115-d2f8-22fdb6551faa"
      },
      "outputs": [
        {
          "ename": "",
          "evalue": "",
          "output_type": "error",
          "traceback": [
            "\u001b[1;31mRunning cells with 'Python 3.12.3' requires the ipykernel package.\n",
            "\u001b[1;31mRun the following command to install 'ipykernel' into the Python environment. \n",
            "\u001b[1;31mCommand: '/opt/homebrew/bin/python3 -m pip install ipykernel -U --user --force-reinstall'"
          ]
        }
      ],
      "source": [
        "plt.figure(figsize=(10, 10))\n",
        "\n",
        "out = tree.plot_tree(\n",
        "    best_model,\n",
        "    feature_names=feature_names,\n",
        "    filled=True,\n",
        "    fontsize=9,\n",
        "    node_ids=True,\n",
        "    class_names=True,\n",
        ")\n",
        "for o in out:\n",
        "    arrow = o.arrow_patch\n",
        "    if arrow is not None:\n",
        "        arrow.set_edgecolor(\"black\")\n",
        "        arrow.set_linewidth(1)\n",
        "plt.show()\n",
        "plt.show()"
      ]
    },
    {
      "cell_type": "code",
      "execution_count": null,
      "metadata": {
        "colab": {
          "base_uri": "https://localhost:8080/"
        },
        "id": "jDZUOj5BxLRi",
        "outputId": "e89624bf-adf5-4cc2-e37c-92b38b9496d3"
      },
      "outputs": [
        {
          "ename": "",
          "evalue": "",
          "output_type": "error",
          "traceback": [
            "\u001b[1;31mRunning cells with 'Python 3.12.3' requires the ipykernel package.\n",
            "\u001b[1;31mRun the following command to install 'ipykernel' into the Python environment. \n",
            "\u001b[1;31mCommand: '/opt/homebrew/bin/python3 -m pip install ipykernel -U --user --force-reinstall'"
          ]
        }
      ],
      "source": [
        "# Text report showing the rules of a decision tree -\n",
        "\n",
        "print(tree.export_text(best_model, feature_names=feature_names, show_weights=True))"
      ]
    },
    {
      "cell_type": "code",
      "execution_count": null,
      "metadata": {
        "colab": {
          "base_uri": "https://localhost:8080/"
        },
        "id": "DSCypYd3xLRj",
        "outputId": "7edd8c70-25cf-4a10-aaab-e2e4c9bfa5be"
      },
      "outputs": [
        {
          "ename": "",
          "evalue": "",
          "output_type": "error",
          "traceback": [
            "\u001b[1;31mRunning cells with 'Python 3.12.3' requires the ipykernel package.\n",
            "\u001b[1;31mRun the following command to install 'ipykernel' into the Python environment. \n",
            "\u001b[1;31mCommand: '/opt/homebrew/bin/python3 -m pip install ipykernel -U --user --force-reinstall'"
          ]
        }
      ],
      "source": [
        "# importance of features in the tree building ( The importance of a feature is computed as the\n",
        "# (normalized) total reduction of the 'criterion' brought by that feature. It is also known as the Gini importance )\n",
        "\n",
        "print(\n",
        "    pd.DataFrame(\n",
        "        best_model.feature_importances_, columns=[\"Imp\"], index=X_train.columns\n",
        "    ).sort_values(by=\"Imp\", ascending=False)\n",
        ")"
      ]
    },
    {
      "cell_type": "code",
      "execution_count": null,
      "metadata": {
        "colab": {
          "base_uri": "https://localhost:8080/",
          "height": 0
        },
        "id": "n_nDT7r8xLRl",
        "outputId": "e3cf3e86-6c92-466b-f758-2acb341b10bf"
      },
      "outputs": [
        {
          "ename": "",
          "evalue": "",
          "output_type": "error",
          "traceback": [
            "\u001b[1;31mRunning cells with 'Python 3.12.3' requires the ipykernel package.\n",
            "\u001b[1;31mRun the following command to install 'ipykernel' into the Python environment. \n",
            "\u001b[1;31mCommand: '/opt/homebrew/bin/python3 -m pip install ipykernel -U --user --force-reinstall'"
          ]
        }
      ],
      "source": [
        "importances = best_model.feature_importances_\n",
        "indices = np.argsort(importances)\n",
        "\n",
        "plt.figure(figsize=(12, 12))\n",
        "plt.title(\"Feature Importances\")\n",
        "plt.barh(range(len(indices)), importances[indices], color=\"violet\", align=\"center\")\n",
        "plt.yticks(range(len(indices)), [feature_names[i] for i in indices])\n",
        "plt.xlabel(\"Relative Importance\")\n",
        "plt.show()"
      ]
    },
    {
      "cell_type": "markdown",
      "metadata": {
        "id": "dTPfo2UBtHP9"
      },
      "source": [
        "* FICO score, duration of the loan, and gender remain the most important feature with post-pruning too."
      ]
    },
    {
      "cell_type": "markdown",
      "metadata": {
        "id": "qzHfpcXUtHP9"
      },
      "source": [
        "## Comparison of Models and Final Model Selection"
      ]
    },
    {
      "cell_type": "code",
      "execution_count": null,
      "metadata": {
        "colab": {
          "base_uri": "https://localhost:8080/",
          "height": 0
        },
        "id": "jNKZjubGtHP9",
        "outputId": "115d003d-44d6-48e8-c8ce-f50f76ed1a2a"
      },
      "outputs": [
        {
          "ename": "",
          "evalue": "",
          "output_type": "error",
          "traceback": [
            "\u001b[1;31mRunning cells with 'Python 3.12.3' requires the ipykernel package.\n",
            "\u001b[1;31mRun the following command to install 'ipykernel' into the Python environment. \n",
            "\u001b[1;31mCommand: '/opt/homebrew/bin/python3 -m pip install ipykernel -U --user --force-reinstall'"
          ]
        }
      ],
      "source": [
        "# training performance comparison\n",
        "\n",
        "models_train_comp_df = pd.concat(\n",
        "    [\n",
        "        decision_tree_perf_train.T,\n",
        "        decision_tree_tune_perf_train.T,\n",
        "        decision_tree_postpruned_perf_train.T,\n",
        "    ],\n",
        "    axis=1,\n",
        ")\n",
        "models_train_comp_df.columns = [\n",
        "    \"Decision Tree sklearn\",\n",
        "    \"Decision Tree (Pre-Pruning)\",\n",
        "    \"Decision Tree (Post-Pruning)\",\n",
        "]\n",
        "print(\"Training performance comparison:\")\n",
        "models_train_comp_df"
      ]
    },
    {
      "cell_type": "code",
      "execution_count": null,
      "metadata": {
        "colab": {
          "base_uri": "https://localhost:8080/",
          "height": 0
        },
        "id": "iHBf96DmtHP9",
        "outputId": "27fe6028-d043-459c-ddf0-e2daed0cdb25"
      },
      "outputs": [
        {
          "ename": "",
          "evalue": "",
          "output_type": "error",
          "traceback": [
            "\u001b[1;31mRunning cells with 'Python 3.12.3' requires the ipykernel package.\n",
            "\u001b[1;31mRun the following command to install 'ipykernel' into the Python environment. \n",
            "\u001b[1;31mCommand: '/opt/homebrew/bin/python3 -m pip install ipykernel -U --user --force-reinstall'"
          ]
        }
      ],
      "source": [
        "# test performance comparison\n",
        "\n",
        "models_train_comp_df = pd.concat(\n",
        "    [\n",
        "        decision_tree_perf_test.T,\n",
        "        decision_tree_tune_perf_test.T,\n",
        "        decision_tree_postpruned_perf_test.T,\n",
        "    ],\n",
        "    axis=1,\n",
        ")\n",
        "models_train_comp_df.columns = [\n",
        "    \"Decision Tree sklearn\",\n",
        "    \"Decision Tree (Pre-Pruning)\",\n",
        "    \"Decision Tree (Post-Pruning)\",\n",
        "]\n",
        "print(\"Test set performance comparison:\")\n",
        "models_train_comp_df"
      ]
    },
    {
      "cell_type": "markdown",
      "metadata": {
        "id": "qiJe6244tHP-"
      },
      "source": [
        "* Decision tree with post-pruning is giving the highest recall on the test set.\n",
        "* The tree with post pruning is not complex and easy to interpret."
      ]
    },
    {
      "cell_type": "markdown",
      "metadata": {
        "id": "LpNPJwjHtHP-"
      },
      "source": [
        "## Conclusions and Recommendations"
      ]
    },
    {
      "cell_type": "markdown",
      "metadata": {
        "id": "xVhpDi2hKZAz"
      },
      "source": [
        "* FICO, term and gender (in that order) are the most important variables in determining if a borrower will get into a delinquent stage\n",
        "* No borrower shall be given a loan if they are applying for a 36 month term loan and\n",
        "have a FICO score in the range 300-500.\n",
        "* Female borrowers with a FICO score greater than 500 should be our target customers.\n",
        "* Criteria to approve loan according to decision tree model should depend on three main factors - FICO score, duration of loan and gender that is - If the FICO score is less than 500 and the duration of loan is less than 60 months then the customer will not be able to repay the loans. If the customer has greater than 500 FICO score and is a female higher chances that they will repay the loans."
      ]
    }
  ],
  "metadata": {
    "colab": {
      "collapsed_sections": [
        "5KIc3T1j5fK5",
        "tC574UFUD4A4",
        "a9ZMNfUNhU14",
        "2bPpyK_cEHzq",
        "r8omfzv0tHOz",
        "dEuSu6e4hU2e",
        "mwAu-vEwhU2m",
        "7E1orwlJhU20",
        "Ie6gSJh8hU28",
        "spLcUitLEWx4",
        "vXoQOPsVhU3h",
        "wuL-aB65tHO_",
        "rsaxyjL7tHO_",
        "QkXGt6lVtHPA",
        "IQ59IaDXtHPB",
        "UbZDB3TGtHPq",
        "Lw6uFMRutHPr",
        "ah0R9IkjtHPr",
        "ii36hlj9tHPr",
        "vmbZNXkAtHPs",
        "tDysrZPiPSBS",
        "T5FLmNgIF3JH",
        "eaerBFkXGA1j",
        "mJFTb4EpGHCo",
        "3qkCgN9DGMR_",
        "rvhPlCr1GPm_",
        "rvrz5DE9tHPt",
        "BLE5c1NDGewb",
        "Ru3sSmGYGkm1",
        "s-vKvMEYGoZQ",
        "_2KSmhKxtHPv",
        "Y7V4EE9oHfU_",
        "vsWZMSgPtHPw",
        "04FrGFZ3tHPx",
        "U_imjVzRxLQC",
        "fld-ppK9tHPx",
        "d8XDDQvitHPy",
        "SRz5Aks1tHPy",
        "WGn7w06uxLQP",
        "WUfIDKYkJHqv",
        "QMt62ns9tHP0",
        "TbY1Lz1otHP1",
        "2YgsRY9ktHP2",
        "guc7EuIJxLQ-",
        "62dQ0wu5xLRL",
        "rW3G9W8PtHP6",
        "JLZDokvTtHP7",
        "UvvLsO1qtHP7",
        "qzHfpcXUtHP9",
        "LpNPJwjHtHP-"
      ],
      "provenance": []
    },
    "kernelspec": {
      "display_name": "Python 3",
      "language": "python",
      "name": "python3"
    },
    "language_info": {
      "codemirror_mode": {
        "name": "ipython",
        "version": 3
      },
      "file_extension": ".py",
      "mimetype": "text/x-python",
      "name": "python",
      "nbconvert_exporter": "python",
      "pygments_lexer": "ipython3",
      "version": "3.12.3"
    }
  },
  "nbformat": 4,
  "nbformat_minor": 0
}
